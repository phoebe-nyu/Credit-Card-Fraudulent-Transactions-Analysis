{
 "cells": [
  {
   "cell_type": "markdown",
   "metadata": {},
   "source": [
    "## Question 1\n",
    "#### Programmatically download and load into your favorite analytical tool the transactions data. This data, which is in line-delimited JSON format, can be found\n",
    "#### Please describe the structure of the data. Number of records and fields in each record?\n",
    "#### Please provide some additional basic summary statistics for each field. Be sure to include a count of null, minimum, maximum, and unique values where appropriate."
   ]
  },
  {
   "cell_type": "code",
   "execution_count": 2,
   "metadata": {},
   "outputs": [
    {
     "name": "stdout",
     "output_type": "stream",
     "text": [
      "Requirement already satisfied: imbalanced-learn in /opt/anaconda3/lib/python3.8/site-packages (0.7.0)\n",
      "Requirement already satisfied: scipy>=0.19.1 in /opt/anaconda3/lib/python3.8/site-packages (from imbalanced-learn) (1.5.0)\n",
      "Requirement already satisfied: joblib>=0.11 in /opt/anaconda3/lib/python3.8/site-packages (from imbalanced-learn) (0.16.0)\n",
      "Requirement already satisfied: scikit-learn>=0.23 in /opt/anaconda3/lib/python3.8/site-packages (from imbalanced-learn) (0.23.1)\n",
      "Requirement already satisfied: numpy>=1.13.3 in /opt/anaconda3/lib/python3.8/site-packages (from imbalanced-learn) (1.18.5)\n",
      "Requirement already satisfied: threadpoolctl>=2.0.0 in /opt/anaconda3/lib/python3.8/site-packages (from scikit-learn>=0.23->imbalanced-learn) (2.1.0)\n",
      "Note: you may need to restart the kernel to use updated packages.\n"
     ]
    }
   ],
   "source": [
    "import pandas as pd\n",
    "import numpy as np\n",
    "import matplotlib.pyplot as plt\n",
    "import seaborn as sns \n",
    "%pip install imbalanced-learn\n",
    "from imblearn.over_sampling import SMOTE\n",
    "from sklearn.decomposition import PCA\n",
    "from sklearn.model_selection import train_test_split,cross_val_score"
   ]
  },
  {
   "cell_type": "code",
   "execution_count": 4,
   "metadata": {},
   "outputs": [],
   "source": [
    "data=pd.read_json('transactions.txt',lines=True)"
   ]
  },
  {
   "cell_type": "code",
   "execution_count": 5,
   "metadata": {},
   "outputs": [
    {
     "data": {
      "text/html": [
       "<div>\n",
       "<style scoped>\n",
       "    .dataframe tbody tr th:only-of-type {\n",
       "        vertical-align: middle;\n",
       "    }\n",
       "\n",
       "    .dataframe tbody tr th {\n",
       "        vertical-align: top;\n",
       "    }\n",
       "\n",
       "    .dataframe thead th {\n",
       "        text-align: right;\n",
       "    }\n",
       "</style>\n",
       "<table border=\"1\" class=\"dataframe\">\n",
       "  <thead>\n",
       "    <tr style=\"text-align: right;\">\n",
       "      <th></th>\n",
       "      <th>accountNumber</th>\n",
       "      <th>customerId</th>\n",
       "      <th>creditLimit</th>\n",
       "      <th>availableMoney</th>\n",
       "      <th>transactionDateTime</th>\n",
       "      <th>transactionAmount</th>\n",
       "      <th>merchantName</th>\n",
       "      <th>acqCountry</th>\n",
       "      <th>merchantCountryCode</th>\n",
       "      <th>posEntryMode</th>\n",
       "      <th>...</th>\n",
       "      <th>echoBuffer</th>\n",
       "      <th>currentBalance</th>\n",
       "      <th>merchantCity</th>\n",
       "      <th>merchantState</th>\n",
       "      <th>merchantZip</th>\n",
       "      <th>cardPresent</th>\n",
       "      <th>posOnPremises</th>\n",
       "      <th>recurringAuthInd</th>\n",
       "      <th>expirationDateKeyInMatch</th>\n",
       "      <th>isFraud</th>\n",
       "    </tr>\n",
       "  </thead>\n",
       "  <tbody>\n",
       "    <tr>\n",
       "      <th>0</th>\n",
       "      <td>737265056</td>\n",
       "      <td>737265056</td>\n",
       "      <td>5000</td>\n",
       "      <td>5000.0</td>\n",
       "      <td>2016-08-13T14:27:32</td>\n",
       "      <td>98.55</td>\n",
       "      <td>Uber</td>\n",
       "      <td>US</td>\n",
       "      <td>US</td>\n",
       "      <td>02</td>\n",
       "      <td>...</td>\n",
       "      <td></td>\n",
       "      <td>0.0</td>\n",
       "      <td></td>\n",
       "      <td></td>\n",
       "      <td></td>\n",
       "      <td>False</td>\n",
       "      <td></td>\n",
       "      <td></td>\n",
       "      <td>False</td>\n",
       "      <td>False</td>\n",
       "    </tr>\n",
       "    <tr>\n",
       "      <th>1</th>\n",
       "      <td>737265056</td>\n",
       "      <td>737265056</td>\n",
       "      <td>5000</td>\n",
       "      <td>5000.0</td>\n",
       "      <td>2016-10-11T05:05:54</td>\n",
       "      <td>74.51</td>\n",
       "      <td>AMC #191138</td>\n",
       "      <td>US</td>\n",
       "      <td>US</td>\n",
       "      <td>09</td>\n",
       "      <td>...</td>\n",
       "      <td></td>\n",
       "      <td>0.0</td>\n",
       "      <td></td>\n",
       "      <td></td>\n",
       "      <td></td>\n",
       "      <td>True</td>\n",
       "      <td></td>\n",
       "      <td></td>\n",
       "      <td>False</td>\n",
       "      <td>False</td>\n",
       "    </tr>\n",
       "    <tr>\n",
       "      <th>2</th>\n",
       "      <td>737265056</td>\n",
       "      <td>737265056</td>\n",
       "      <td>5000</td>\n",
       "      <td>5000.0</td>\n",
       "      <td>2016-11-08T09:18:39</td>\n",
       "      <td>7.47</td>\n",
       "      <td>Play Store</td>\n",
       "      <td>US</td>\n",
       "      <td>US</td>\n",
       "      <td>09</td>\n",
       "      <td>...</td>\n",
       "      <td></td>\n",
       "      <td>0.0</td>\n",
       "      <td></td>\n",
       "      <td></td>\n",
       "      <td></td>\n",
       "      <td>False</td>\n",
       "      <td></td>\n",
       "      <td></td>\n",
       "      <td>False</td>\n",
       "      <td>False</td>\n",
       "    </tr>\n",
       "    <tr>\n",
       "      <th>3</th>\n",
       "      <td>737265056</td>\n",
       "      <td>737265056</td>\n",
       "      <td>5000</td>\n",
       "      <td>5000.0</td>\n",
       "      <td>2016-12-10T02:14:50</td>\n",
       "      <td>7.47</td>\n",
       "      <td>Play Store</td>\n",
       "      <td>US</td>\n",
       "      <td>US</td>\n",
       "      <td>09</td>\n",
       "      <td>...</td>\n",
       "      <td></td>\n",
       "      <td>0.0</td>\n",
       "      <td></td>\n",
       "      <td></td>\n",
       "      <td></td>\n",
       "      <td>False</td>\n",
       "      <td></td>\n",
       "      <td></td>\n",
       "      <td>False</td>\n",
       "      <td>False</td>\n",
       "    </tr>\n",
       "    <tr>\n",
       "      <th>4</th>\n",
       "      <td>830329091</td>\n",
       "      <td>830329091</td>\n",
       "      <td>5000</td>\n",
       "      <td>5000.0</td>\n",
       "      <td>2016-03-24T21:04:46</td>\n",
       "      <td>71.18</td>\n",
       "      <td>Tim Hortons #947751</td>\n",
       "      <td>US</td>\n",
       "      <td>US</td>\n",
       "      <td>02</td>\n",
       "      <td>...</td>\n",
       "      <td></td>\n",
       "      <td>0.0</td>\n",
       "      <td></td>\n",
       "      <td></td>\n",
       "      <td></td>\n",
       "      <td>True</td>\n",
       "      <td></td>\n",
       "      <td></td>\n",
       "      <td>False</td>\n",
       "      <td>False</td>\n",
       "    </tr>\n",
       "  </tbody>\n",
       "</table>\n",
       "<p>5 rows × 29 columns</p>\n",
       "</div>"
      ],
      "text/plain": [
       "   accountNumber  customerId  creditLimit  availableMoney  \\\n",
       "0      737265056   737265056         5000          5000.0   \n",
       "1      737265056   737265056         5000          5000.0   \n",
       "2      737265056   737265056         5000          5000.0   \n",
       "3      737265056   737265056         5000          5000.0   \n",
       "4      830329091   830329091         5000          5000.0   \n",
       "\n",
       "   transactionDateTime  transactionAmount         merchantName acqCountry  \\\n",
       "0  2016-08-13T14:27:32              98.55                 Uber         US   \n",
       "1  2016-10-11T05:05:54              74.51          AMC #191138         US   \n",
       "2  2016-11-08T09:18:39               7.47           Play Store         US   \n",
       "3  2016-12-10T02:14:50               7.47           Play Store         US   \n",
       "4  2016-03-24T21:04:46              71.18  Tim Hortons #947751         US   \n",
       "\n",
       "  merchantCountryCode posEntryMode  ... echoBuffer currentBalance  \\\n",
       "0                  US           02  ...                       0.0   \n",
       "1                  US           09  ...                       0.0   \n",
       "2                  US           09  ...                       0.0   \n",
       "3                  US           09  ...                       0.0   \n",
       "4                  US           02  ...                       0.0   \n",
       "\n",
       "  merchantCity merchantState merchantZip  cardPresent  posOnPremises  \\\n",
       "0                                               False                  \n",
       "1                                                True                  \n",
       "2                                               False                  \n",
       "3                                               False                  \n",
       "4                                                True                  \n",
       "\n",
       "   recurringAuthInd expirationDateKeyInMatch isFraud  \n",
       "0                                      False   False  \n",
       "1                                      False   False  \n",
       "2                                      False   False  \n",
       "3                                      False   False  \n",
       "4                                      False   False  \n",
       "\n",
       "[5 rows x 29 columns]"
      ]
     },
     "execution_count": 5,
     "metadata": {},
     "output_type": "execute_result"
    }
   ],
   "source": [
    "data.head()"
   ]
  },
  {
   "cell_type": "code",
   "execution_count": 6,
   "metadata": {},
   "outputs": [
    {
     "data": {
      "text/plain": [
       "(786363, 29)"
      ]
     },
     "execution_count": 6,
     "metadata": {},
     "output_type": "execute_result"
    }
   ],
   "source": [
    "data.shape"
   ]
  },
  {
   "cell_type": "code",
   "execution_count": 7,
   "metadata": {},
   "outputs": [
    {
     "data": {
      "text/plain": [
       "accountNumber                 int64\n",
       "customerId                    int64\n",
       "creditLimit                   int64\n",
       "availableMoney              float64\n",
       "transactionDateTime          object\n",
       "transactionAmount           float64\n",
       "merchantName                 object\n",
       "acqCountry                   object\n",
       "merchantCountryCode          object\n",
       "posEntryMode                 object\n",
       "posConditionCode             object\n",
       "merchantCategoryCode         object\n",
       "currentExpDate               object\n",
       "accountOpenDate              object\n",
       "dateOfLastAddressChange      object\n",
       "cardCVV                       int64\n",
       "enteredCVV                    int64\n",
       "cardLast4Digits               int64\n",
       "transactionType              object\n",
       "echoBuffer                   object\n",
       "currentBalance              float64\n",
       "merchantCity                 object\n",
       "merchantState                object\n",
       "merchantZip                  object\n",
       "cardPresent                    bool\n",
       "posOnPremises                object\n",
       "recurringAuthInd             object\n",
       "expirationDateKeyInMatch       bool\n",
       "isFraud                        bool\n",
       "dtype: object"
      ]
     },
     "execution_count": 7,
     "metadata": {},
     "output_type": "execute_result"
    }
   ],
   "source": [
    "data.dtypes"
   ]
  },
  {
   "cell_type": "markdown",
   "metadata": {},
   "source": [
    "### Data Structure\n",
    "- The dataset has 786363 rows and 29 columns \n",
    "- IsFraud is the target varible\n",
    "- There are numerical features and categorical features\n",
    "- There are datetime features"
   ]
  },
  {
   "cell_type": "code",
   "execution_count": 68,
   "metadata": {},
   "outputs": [],
   "source": [
    "#convert object into datetime\n",
    "data[['transactionDateTime','currentExpDate','accountOpenDate','dateOfLastAddressChange']]=data[['transactionDateTime','currentExpDate','accountOpenDate','dateOfLastAddressChange']].apply(pd.to_datetime,errors='coerce')"
   ]
  },
  {
   "cell_type": "markdown",
   "metadata": {},
   "source": [
    "## basic summary statistics"
   ]
  },
  {
   "cell_type": "code",
   "execution_count": 7,
   "metadata": {},
   "outputs": [
    {
     "data": {
      "text/html": [
       "<div>\n",
       "<style scoped>\n",
       "    .dataframe tbody tr th:only-of-type {\n",
       "        vertical-align: middle;\n",
       "    }\n",
       "\n",
       "    .dataframe tbody tr th {\n",
       "        vertical-align: top;\n",
       "    }\n",
       "\n",
       "    .dataframe thead th {\n",
       "        text-align: right;\n",
       "    }\n",
       "</style>\n",
       "<table border=\"1\" class=\"dataframe\">\n",
       "  <thead>\n",
       "    <tr style=\"text-align: right;\">\n",
       "      <th></th>\n",
       "      <th>accountNumber</th>\n",
       "      <th>customerId</th>\n",
       "      <th>creditLimit</th>\n",
       "      <th>availableMoney</th>\n",
       "      <th>transactionAmount</th>\n",
       "      <th>cardCVV</th>\n",
       "      <th>enteredCVV</th>\n",
       "      <th>cardLast4Digits</th>\n",
       "      <th>currentBalance</th>\n",
       "    </tr>\n",
       "  </thead>\n",
       "  <tbody>\n",
       "    <tr>\n",
       "      <th>count</th>\n",
       "      <td>7.863630e+05</td>\n",
       "      <td>7.863630e+05</td>\n",
       "      <td>786363.000000</td>\n",
       "      <td>786363.000000</td>\n",
       "      <td>786363.000000</td>\n",
       "      <td>786363.000000</td>\n",
       "      <td>786363.000000</td>\n",
       "      <td>786363.000000</td>\n",
       "      <td>786363.000000</td>\n",
       "    </tr>\n",
       "    <tr>\n",
       "      <th>mean</th>\n",
       "      <td>5.372326e+08</td>\n",
       "      <td>5.372326e+08</td>\n",
       "      <td>10759.464459</td>\n",
       "      <td>6250.725369</td>\n",
       "      <td>136.985791</td>\n",
       "      <td>544.467338</td>\n",
       "      <td>544.183857</td>\n",
       "      <td>4757.417799</td>\n",
       "      <td>4508.739089</td>\n",
       "    </tr>\n",
       "    <tr>\n",
       "      <th>std</th>\n",
       "      <td>2.554211e+08</td>\n",
       "      <td>2.554211e+08</td>\n",
       "      <td>11636.174890</td>\n",
       "      <td>8880.783989</td>\n",
       "      <td>147.725569</td>\n",
       "      <td>261.524220</td>\n",
       "      <td>261.551254</td>\n",
       "      <td>2996.583810</td>\n",
       "      <td>6457.442068</td>\n",
       "    </tr>\n",
       "    <tr>\n",
       "      <th>min</th>\n",
       "      <td>1.000881e+08</td>\n",
       "      <td>1.000881e+08</td>\n",
       "      <td>250.000000</td>\n",
       "      <td>-1005.630000</td>\n",
       "      <td>0.000000</td>\n",
       "      <td>100.000000</td>\n",
       "      <td>0.000000</td>\n",
       "      <td>0.000000</td>\n",
       "      <td>0.000000</td>\n",
       "    </tr>\n",
       "    <tr>\n",
       "      <th>25%</th>\n",
       "      <td>3.301333e+08</td>\n",
       "      <td>3.301333e+08</td>\n",
       "      <td>5000.000000</td>\n",
       "      <td>1077.420000</td>\n",
       "      <td>33.650000</td>\n",
       "      <td>310.000000</td>\n",
       "      <td>310.000000</td>\n",
       "      <td>2178.000000</td>\n",
       "      <td>689.910000</td>\n",
       "    </tr>\n",
       "    <tr>\n",
       "      <th>50%</th>\n",
       "      <td>5.074561e+08</td>\n",
       "      <td>5.074561e+08</td>\n",
       "      <td>7500.000000</td>\n",
       "      <td>3184.860000</td>\n",
       "      <td>87.900000</td>\n",
       "      <td>535.000000</td>\n",
       "      <td>535.000000</td>\n",
       "      <td>4733.000000</td>\n",
       "      <td>2451.760000</td>\n",
       "    </tr>\n",
       "    <tr>\n",
       "      <th>75%</th>\n",
       "      <td>7.676200e+08</td>\n",
       "      <td>7.676200e+08</td>\n",
       "      <td>15000.000000</td>\n",
       "      <td>7500.000000</td>\n",
       "      <td>191.480000</td>\n",
       "      <td>785.000000</td>\n",
       "      <td>785.000000</td>\n",
       "      <td>7338.000000</td>\n",
       "      <td>5291.095000</td>\n",
       "    </tr>\n",
       "    <tr>\n",
       "      <th>max</th>\n",
       "      <td>9.993896e+08</td>\n",
       "      <td>9.993896e+08</td>\n",
       "      <td>50000.000000</td>\n",
       "      <td>50000.000000</td>\n",
       "      <td>2011.540000</td>\n",
       "      <td>998.000000</td>\n",
       "      <td>998.000000</td>\n",
       "      <td>9998.000000</td>\n",
       "      <td>47498.810000</td>\n",
       "    </tr>\n",
       "  </tbody>\n",
       "</table>\n",
       "</div>"
      ],
      "text/plain": [
       "       accountNumber    customerId    creditLimit  availableMoney  \\\n",
       "count   7.863630e+05  7.863630e+05  786363.000000   786363.000000   \n",
       "mean    5.372326e+08  5.372326e+08   10759.464459     6250.725369   \n",
       "std     2.554211e+08  2.554211e+08   11636.174890     8880.783989   \n",
       "min     1.000881e+08  1.000881e+08     250.000000    -1005.630000   \n",
       "25%     3.301333e+08  3.301333e+08    5000.000000     1077.420000   \n",
       "50%     5.074561e+08  5.074561e+08    7500.000000     3184.860000   \n",
       "75%     7.676200e+08  7.676200e+08   15000.000000     7500.000000   \n",
       "max     9.993896e+08  9.993896e+08   50000.000000    50000.000000   \n",
       "\n",
       "       transactionAmount        cardCVV     enteredCVV  cardLast4Digits  \\\n",
       "count      786363.000000  786363.000000  786363.000000    786363.000000   \n",
       "mean          136.985791     544.467338     544.183857      4757.417799   \n",
       "std           147.725569     261.524220     261.551254      2996.583810   \n",
       "min             0.000000     100.000000       0.000000         0.000000   \n",
       "25%            33.650000     310.000000     310.000000      2178.000000   \n",
       "50%            87.900000     535.000000     535.000000      4733.000000   \n",
       "75%           191.480000     785.000000     785.000000      7338.000000   \n",
       "max          2011.540000     998.000000     998.000000      9998.000000   \n",
       "\n",
       "       currentBalance  \n",
       "count   786363.000000  \n",
       "mean      4508.739089  \n",
       "std       6457.442068  \n",
       "min          0.000000  \n",
       "25%        689.910000  \n",
       "50%       2451.760000  \n",
       "75%       5291.095000  \n",
       "max      47498.810000  "
      ]
     },
     "execution_count": 7,
     "metadata": {},
     "output_type": "execute_result"
    }
   ],
   "source": [
    "data.describe()"
   ]
  },
  {
   "cell_type": "markdown",
   "metadata": {},
   "source": [
    "#### There are many missing values with '' in this project. count these numbers below"
   ]
  },
  {
   "cell_type": "code",
   "execution_count": 12,
   "metadata": {},
   "outputs": [
    {
     "data": {
      "text/plain": [
       "4562"
      ]
     },
     "execution_count": 12,
     "metadata": {},
     "output_type": "execute_result"
    }
   ],
   "source": [
    "#missing value for 'acqcountry' column \n",
    "(data['acqCountry'].values =='').sum()"
   ]
  },
  {
   "cell_type": "code",
   "execution_count": 13,
   "metadata": {},
   "outputs": [
    {
     "data": {
      "text/plain": [
       "724"
      ]
     },
     "execution_count": 13,
     "metadata": {},
     "output_type": "execute_result"
    }
   ],
   "source": [
    "# missing value for 'merchantCountryCode' column\n",
    "(data['merchantCountryCode'].values =='').sum()"
   ]
  },
  {
   "cell_type": "code",
   "execution_count": 14,
   "metadata": {},
   "outputs": [
    {
     "data": {
      "text/plain": [
       "4054"
      ]
     },
     "execution_count": 14,
     "metadata": {},
     "output_type": "execute_result"
    }
   ],
   "source": [
    "#missing value for 'posEntryMode' column\n",
    "(data['posEntryMode'].values =='').sum()"
   ]
  },
  {
   "cell_type": "code",
   "execution_count": 15,
   "metadata": {},
   "outputs": [
    {
     "data": {
      "text/plain": [
       "409"
      ]
     },
     "execution_count": 15,
     "metadata": {},
     "output_type": "execute_result"
    }
   ],
   "source": [
    "# missing value for 'posConditionCode' column\n",
    "(data['posConditionCode'].values =='').sum()"
   ]
  },
  {
   "cell_type": "code",
   "execution_count": 16,
   "metadata": {},
   "outputs": [
    {
     "data": {
      "text/plain": [
       "array(['01', '08', '99', ''], dtype=object)"
      ]
     },
     "execution_count": 16,
     "metadata": {},
     "output_type": "execute_result"
    }
   ],
   "source": [
    "#missing value for 'posConditionCode' column\n",
    "data['posConditionCode'].unique()"
   ]
  },
  {
   "cell_type": "code",
   "execution_count": 17,
   "metadata": {},
   "outputs": [
    {
     "data": {
      "text/plain": [
       "698"
      ]
     },
     "execution_count": 17,
     "metadata": {},
     "output_type": "execute_result"
    }
   ],
   "source": [
    "#missing value for 'transactionType' column\n",
    "(data['transactionType'].values =='').sum()"
   ]
  },
  {
   "cell_type": "markdown",
   "metadata": {},
   "source": [
    "#### There are no values in echoBuffer, merchantCity,merchantState,posOnPremises and recurringAuthInd columns"
   ]
  },
  {
   "cell_type": "code",
   "execution_count": 18,
   "metadata": {},
   "outputs": [
    {
     "data": {
      "text/plain": [
       "(786363, 786363, 786363, 786363, 786363, 786363)"
      ]
     },
     "execution_count": 18,
     "metadata": {},
     "output_type": "execute_result"
    }
   ],
   "source": [
    "#missing value for echoBuffer, merchantCity,merchantState,posOnPremises,recurringAuthInd\n",
    "(data['echoBuffer'].values =='').sum(),(data['merchantCity'].values =='').sum(),(data['merchantState'].values =='').sum(),(data['merchantZip'].values =='').sum(),(data['posOnPremises'].values =='').sum(),(data['recurringAuthInd'].values =='').sum()"
   ]
  },
  {
   "cell_type": "markdown",
   "metadata": {},
   "source": [
    "#### Count the total number of missing value"
   ]
  },
  {
   "cell_type": "code",
   "execution_count": 19,
   "metadata": {},
   "outputs": [
    {
     "data": {
      "text/plain": [
       "4728625"
      ]
     },
     "execution_count": 19,
     "metadata": {},
     "output_type": "execute_result"
    }
   ],
   "source": [
    "# Total number of misssing value\n",
    "(data.values =='').sum()"
   ]
  },
  {
   "cell_type": "markdown",
   "metadata": {},
   "source": [
    "## To sum up in basic statistical part \n",
    "- There are no values in echoBuffer,merchantCity,merchantState,merchantZip,posOnPremises and recurringAuthInd columns, so I will delete those columns later\n",
    "- The mininum value for credit limit is 250 dollars, while the maxinum value is 50000 dollars. Mean is larger than median, which means the variable is right skewed. \n",
    "- The mininum value for available money is -1005.63 dollars, while the maxinum value is 50000 dollars. The rangeis quite large; Meanwhile, Mean is a little bit smaller than median, which means the variable is left skewed. \n",
    "- The mininum value for transaction amount is 0, while the maxinum value is 2011.54 dollars. Meanwhile, Mean value is a little bit larger than median, which means the variable is right skewed. \n",
    "- The mininum value for current balance is 0, while the maxinum value is 2451.76 dollars. The difference between current balance and avaible money is that the current balance is the total amount of funds in your account and the available balance is your current balance less any outstanding holds or debits that have not yet posted to your account."
   ]
  },
  {
   "cell_type": "markdown",
   "metadata": {},
   "source": [
    "## Question 2: Plot\n",
    "#### Plot a histogram of the processed amounts of each transaction, the transactionAmount column.\n",
    "#### Report any structure you find and any hypotheses you have about that structure."
   ]
  },
  {
   "cell_type": "code",
   "execution_count": null,
   "metadata": {},
   "outputs": [],
   "source": [
    "# plot histogram for transactionamount"
   ]
  },
  {
   "cell_type": "code",
   "execution_count": 20,
   "metadata": {},
   "outputs": [
    {
     "data": {
      "text/plain": [
       "<function matplotlib.pyplot.plot(*args, scalex=True, scaley=True, data=None, **kwargs)>"
      ]
     },
     "execution_count": 20,
     "metadata": {},
     "output_type": "execute_result"
    },
    {
     "data": {
      "image/png": "[encoded data removed]",
      "text/plain": [
       "<Figure size 432x288 with 1 Axes>"
      ]
     },
     "metadata": {
      "needs_background": "light"
     },
     "output_type": "display_data"
    }
   ],
   "source": [
    "n_bins = 100\n",
    "plt.hist(data.transactionAmount, bins=n_bins)\n",
    "plt.plot"
   ]
  },
  {
   "cell_type": "code",
   "execution_count": 21,
   "metadata": {},
   "outputs": [
    {
     "data": {
      "image/png": "[encoded data removed]",
      "text/plain": [
       "<Figure size 432x288 with 1 Axes>"
      ]
     },
     "metadata": {
      "needs_background": "light"
     },
     "output_type": "display_data"
    }
   ],
   "source": [
    "ax = sns.boxplot(data.transactionAmount)"
   ]
  },
  {
   "cell_type": "code",
   "execution_count": 56,
   "metadata": {},
   "outputs": [
    {
     "data": {
      "image/png": "[encoded data removed]",
      "text/plain": [
       "<Figure size 432x288 with 1 Axes>"
      ]
     },
     "metadata": {
      "needs_background": "light"
     },
     "output_type": "display_data"
    }
   ],
   "source": [
    "ax = sns.boxplot(data['transactionAmount'][data['isFraud']==True])"
   ]
  },
  {
   "cell_type": "markdown",
   "metadata": {},
   "source": [
    "#### From the boxplot, we can easily notice that there are some outliers in the transactionAmount variable, so we exclude any transaction amount that is larger than 500 and plot again."
   ]
  },
  {
   "cell_type": "code",
   "execution_count": 22,
   "metadata": {},
   "outputs": [
    {
     "data": {
      "text/plain": [
       "25386"
      ]
     },
     "execution_count": 22,
     "metadata": {},
     "output_type": "execute_result"
    }
   ],
   "source": [
    "len(data[data['transactionAmount']>500])"
   ]
  },
  {
   "cell_type": "code",
   "execution_count": 24,
   "metadata": {},
   "outputs": [],
   "source": [
    "#transaction amount larger than 500 is outlier. I exclude outliers and plot histogram again. "
   ]
  },
  {
   "cell_type": "code",
   "execution_count": 23,
   "metadata": {},
   "outputs": [],
   "source": [
    "data_his=data[data['transactionAmount']<500]"
   ]
  },
  {
   "cell_type": "code",
   "execution_count": 24,
   "metadata": {},
   "outputs": [
    {
     "data": {
      "text/plain": [
       "[]"
      ]
     },
     "execution_count": 24,
     "metadata": {},
     "output_type": "execute_result"
    },
    {
     "data": {
      "image/png": "[encoded data removed]",
      "text/plain": [
       "<Figure size 432x288 with 1 Axes>"
      ]
     },
     "metadata": {
      "needs_background": "light"
     },
     "output_type": "display_data"
    }
   ],
   "source": [
    "n_bins = 100\n",
    "plt.hist(data_his['transactionAmount'], bins=n_bins)\n",
    "plt.title('Histogram of Transaction Amounts')\n",
    "plt.xlabel('Transaction Amounts ($)')\n",
    "plt.ylabel('Number of Transactions')\n",
    "plt.plot()"
   ]
  },
  {
   "cell_type": "code",
   "execution_count": 53,
   "metadata": {},
   "outputs": [
    {
     "data": {
      "text/plain": [
       "2011.54"
      ]
     },
     "execution_count": 53,
     "metadata": {},
     "output_type": "execute_result"
    }
   ],
   "source": [
    "max(data['transactionAmount'])"
   ]
  },
  {
   "cell_type": "markdown",
   "metadata": {},
   "source": [
    "## Explore Categorical Features\n",
    "I plot to explore categorical features,especially their relationship between isFraud variable \n",
    "- acqCountry(US, CAN, MEX, PR and unknown)\n",
    "- merchantCountryCode(US, CAN, MEX, PR and unknown)\n",
    "- posEntryMode(02, 09, 05, 80, 90)\n",
    "- posConditionCode(01,08,99 and unknown)\n",
    "- merchantCategoryCode(rideshare, entertainment, mobileapps, fastfood, food_delivery, auto, online_retail, gym, health, personal care, food, fuel, online_subscriptions, online_gifts, hotels, airline, furniture, subscriptions, cable/phone)\n",
    "- transactionType(PURCHASE, ADDRESS_VERIFICATION, REVERSAL, and unknown)\n",
    "- cardPresent(True,False)\n",
    "- expirationDateKeyInMatch(True,False)"
   ]
  },
  {
   "cell_type": "code",
   "execution_count": 40,
   "metadata": {},
   "outputs": [
    {
     "data": {
      "image/png": "[encoded data removed]",
      "text/plain": [
       "<Figure size 576x432 with 1 Axes>"
      ]
     },
     "metadata": {
      "needs_background": "light"
     },
     "output_type": "display_data"
    },
    {
     "data": {
      "image/png": "[encoded data removed]",
      "text/plain": [
       "<Figure size 576x432 with 1 Axes>"
      ]
     },
     "metadata": {
      "needs_background": "light"
     },
     "output_type": "display_data"
    },
    {
     "data": {
      "image/png": "[encoded data removed]",
      "text/plain": [
       "<Figure size 576x432 with 1 Axes>"
      ]
     },
     "metadata": {
      "needs_background": "light"
     },
     "output_type": "display_data"
    },
    {
     "data": {
      "image/png": "[encoded data removed]",
      "text/plain": [
       "<Figure size 576x432 with 1 Axes>"
      ]
     },
     "metadata": {
      "needs_background": "light"
     },
     "output_type": "display_data"
    },
    {
     "data": {
      "image/png": "[encoded data removed]",
      "text/plain": [
       "<Figure size 576x432 with 1 Axes>"
      ]
     },
     "metadata": {
      "needs_background": "light"
     },
     "output_type": "display_data"
    },
    {
     "data": {
      "image/png": "[encoded data removed]",
      "text/plain": [
       "<Figure size 576x432 with 1 Axes>"
      ]
     },
     "metadata": {
      "needs_background": "light"
     },
     "output_type": "display_data"
    },
    {
     "data": {
      "image/png": "[encoded data removed]",
      "text/plain": [
       "<Figure size 576x432 with 1 Axes>"
      ]
     },
     "metadata": {
      "needs_background": "light"
     },
     "output_type": "display_data"
    },
    {
     "data": {
      "image/png": "[encoded data removed]",
      "text/plain": [
       "<Figure size 576x432 with 1 Axes>"
      ]
     },
     "metadata": {
      "needs_background": "light"
     },
     "output_type": "display_data"
    }
   ],
   "source": [
    "for i in['acqCountry','merchantCountryCode','posEntryMode','posConditionCode','merchantCategoryCode','transactionType','cardPresent','expirationDateKeyInMatch']:\n",
    "        fig, ax = plt.subplots(1, figsize=(8,6))\n",
    "        ax = sns.countplot(x=i, hue=\"isFraud\", data=data)\n",
    "        ax.set_xticklabels(ax.get_xticklabels(), rotation=45)\n",
    "        ax.set_xlabel(i, fontsize=10)\n",
    "        ax.set_ylabel('counts', fontsize=10)\n",
    "        ax.plot()"
   ]
  },
  {
   "cell_type": "markdown",
   "metadata": {},
   "source": [
    "## Explore Numerical Features\n",
    "- credit limit\n",
    "- available money\n",
    "- transaction amount\n",
    "- current balance"
   ]
  },
  {
   "cell_type": "code",
   "execution_count": 35,
   "metadata": {},
   "outputs": [
    {
     "data": {
      "text/plain": [
       "<Figure size 432x288 with 0 Axes>"
      ]
     },
     "metadata": {},
     "output_type": "display_data"
    },
    {
     "data": {
      "image/png": "[encoded data removed]",
      "text/plain": [
       "<Figure size 1152x864 with 4 Axes>"
      ]
     },
     "metadata": {},
     "output_type": "display_data"
    }
   ],
   "source": [
    "data1=data[['creditLimit','availableMoney','transactionAmount','currentBalance']]\n",
    "var = data1.columns.values\n",
    "\n",
    "i = 0\n",
    "t0 = data.loc[data['isFraud'] == True]\n",
    "t1 = data.loc[data['isFraud'] == False]\n",
    "\n",
    "sns.set_style('whitegrid')\n",
    "plt.figure()\n",
    "fig, ax = plt.subplots(2,2,figsize=(16,12))\n",
    "\n",
    "for feature in var:\n",
    "    i += 1\n",
    "    plt.subplot(2,2,i)\n",
    "    sns.kdeplot(t0[feature], bw=0.5,label=\"Fraud\")\n",
    "    sns.kdeplot(t1[feature], bw=0.5,label=\"not fraud\")\n",
    "    plt.xlabel(feature, fontsize=12)\n",
    "    locs, labels = plt.xticks()\n",
    "    plt.tick_params(axis='both', which='major', labelsize=12)\n",
    "plt.show()"
   ]
  },
  {
   "cell_type": "markdown",
   "metadata": {},
   "source": [
    "### To sum up \n",
    "- I plot categorical and numerical features. From the plots, we can notice that both fradulent and non fradulent transactions have a very skewed (asymmetric) distribution. \n",
    "- There are only 12417 records of Fraud transactionAmount, taking up to 1.58%, on the contrary, 98.42% transactions are not fradulent. \n",
    "- Max value of fradulent transaction amount is 1608.35 while max value for true transaction amount is 2011.54. \n",
    "- For the total transactions, 50% of transaction amount is under 87, while for fraud transactions. 50% of amount is under 176.98, which implies most transac†ions in real life are small transac†ions\n",
    "\n",
    "Hypothesis: Fraud are more likely to happen in small transactions rather than large transactions. Hence, banks should better focus on protecting small transactions from customers"
   ]
  },
  {
   "cell_type": "markdown",
   "metadata": {},
   "source": [
    "## Question 3: Data Wrangling - Duplicate Transactions\n",
    "#### You will notice a number of what look like duplicated transactions in the data set. One type of duplicated transaction is a reversed transaction, where a purchase is followed by a reversal. Another example is a multi-swipe, where a vendor accidentally charges a customer's card multiple times within a short time span.\n",
    "\n",
    "- Can you programmatically identify reversed and multi-swipe transactions?\n",
    "- What total number of transactions and total dollar amount do you estimate for the reversed transactions? For the multi-swipe transactions? (please consider the first transaction to be \"normal\" and exclude it from the number of transaction and dollar amount counts)\n",
    "- Did you find anything interesting about either kind of transaction?\n"
   ]
  },
  {
   "cell_type": "code",
   "execution_count": 36,
   "metadata": {},
   "outputs": [],
   "source": [
    "#identify reversed detection"
   ]
  },
  {
   "cell_type": "code",
   "execution_count": 57,
   "metadata": {},
   "outputs": [
    {
     "data": {
      "text/plain": [
       "array(['PURCHASE', 'ADDRESS_VERIFICATION', 'REVERSAL', ''], dtype=object)"
      ]
     },
     "execution_count": 57,
     "metadata": {},
     "output_type": "execute_result"
    }
   ],
   "source": [
    "data['transactionType'].unique()"
   ]
  },
  {
   "cell_type": "code",
   "execution_count": 58,
   "metadata": {},
   "outputs": [],
   "source": [
    "sanity=(data['transactionType']=='REVERSAL')     "
   ]
  },
  {
   "cell_type": "code",
   "execution_count": 59,
   "metadata": {},
   "outputs": [],
   "source": [
    "data_reverse=data[sanity]"
   ]
  },
  {
   "cell_type": "code",
   "execution_count": 60,
   "metadata": {},
   "outputs": [
    {
     "data": {
      "text/plain": [
       "2821792.5"
      ]
     },
     "execution_count": 60,
     "metadata": {},
     "output_type": "execute_result"
    }
   ],
   "source": [
    "#total dollar amount of transaction\n",
    "data_reverse.transactionAmount.sum()"
   ]
  },
  {
   "cell_type": "code",
   "execution_count": 61,
   "metadata": {},
   "outputs": [
    {
     "data": {
      "text/plain": [
       "20303"
      ]
     },
     "execution_count": 61,
     "metadata": {},
     "output_type": "execute_result"
    }
   ],
   "source": [
    "#total number of transaction\n",
    "len(data_reverse)"
   ]
  },
  {
   "cell_type": "markdown",
   "metadata": {},
   "source": [
    "#### Reversed Transactions\n",
    "There are four types of transaction type, which are purchase, address verification, reversal and unknown respectively. I subset transacation type=='reversal' to identify reversed transactions. \n",
    "- We can clearly see that there are 20303 records of reversed transactions. \n",
    "- The totally amount of transactions is 2821792.5 dollar"
   ]
  },
  {
   "cell_type": "code",
   "execution_count": 62,
   "metadata": {},
   "outputs": [
    {
     "data": {
      "text/html": [
       "<div>\n",
       "<style scoped>\n",
       "    .dataframe tbody tr th:only-of-type {\n",
       "        vertical-align: middle;\n",
       "    }\n",
       "\n",
       "    .dataframe tbody tr th {\n",
       "        vertical-align: top;\n",
       "    }\n",
       "\n",
       "    .dataframe thead th {\n",
       "        text-align: right;\n",
       "    }\n",
       "</style>\n",
       "<table border=\"1\" class=\"dataframe\">\n",
       "  <thead>\n",
       "    <tr style=\"text-align: right;\">\n",
       "      <th></th>\n",
       "      <th>accountNumber</th>\n",
       "      <th>customerId</th>\n",
       "      <th>creditLimit</th>\n",
       "      <th>availableMoney</th>\n",
       "      <th>transactionDateTime</th>\n",
       "      <th>transactionAmount</th>\n",
       "      <th>merchantName</th>\n",
       "      <th>acqCountry</th>\n",
       "      <th>merchantCountryCode</th>\n",
       "      <th>posEntryMode</th>\n",
       "      <th>...</th>\n",
       "      <th>echoBuffer</th>\n",
       "      <th>currentBalance</th>\n",
       "      <th>merchantCity</th>\n",
       "      <th>merchantState</th>\n",
       "      <th>merchantZip</th>\n",
       "      <th>cardPresent</th>\n",
       "      <th>posOnPremises</th>\n",
       "      <th>recurringAuthInd</th>\n",
       "      <th>expirationDateKeyInMatch</th>\n",
       "      <th>isFraud</th>\n",
       "    </tr>\n",
       "  </thead>\n",
       "  <tbody>\n",
       "    <tr>\n",
       "      <th>541900</th>\n",
       "      <td>100088067</td>\n",
       "      <td>100088067</td>\n",
       "      <td>50000</td>\n",
       "      <td>50000.00</td>\n",
       "      <td>2016-01-12T00:59:52</td>\n",
       "      <td>205.13</td>\n",
       "      <td>EZ Putt Putt #982199</td>\n",
       "      <td>US</td>\n",
       "      <td>US</td>\n",
       "      <td>02</td>\n",
       "      <td>...</td>\n",
       "      <td></td>\n",
       "      <td>0.00</td>\n",
       "      <td></td>\n",
       "      <td></td>\n",
       "      <td></td>\n",
       "      <td>True</td>\n",
       "      <td></td>\n",
       "      <td></td>\n",
       "      <td>False</td>\n",
       "      <td>False</td>\n",
       "    </tr>\n",
       "    <tr>\n",
       "      <th>541901</th>\n",
       "      <td>100088067</td>\n",
       "      <td>100088067</td>\n",
       "      <td>50000</td>\n",
       "      <td>49794.87</td>\n",
       "      <td>2016-01-12T19:49:41</td>\n",
       "      <td>46.43</td>\n",
       "      <td>Dinosaur Sandwitch Bar #303701</td>\n",
       "      <td>US</td>\n",
       "      <td>US</td>\n",
       "      <td>05</td>\n",
       "      <td>...</td>\n",
       "      <td></td>\n",
       "      <td>205.13</td>\n",
       "      <td></td>\n",
       "      <td></td>\n",
       "      <td></td>\n",
       "      <td>True</td>\n",
       "      <td></td>\n",
       "      <td></td>\n",
       "      <td>False</td>\n",
       "      <td>False</td>\n",
       "    </tr>\n",
       "    <tr>\n",
       "      <th>541902</th>\n",
       "      <td>100088067</td>\n",
       "      <td>100088067</td>\n",
       "      <td>50000</td>\n",
       "      <td>49748.44</td>\n",
       "      <td>2016-01-17T15:41:46</td>\n",
       "      <td>378.67</td>\n",
       "      <td>Mobile eCards</td>\n",
       "      <td>US</td>\n",
       "      <td>US</td>\n",
       "      <td>05</td>\n",
       "      <td>...</td>\n",
       "      <td></td>\n",
       "      <td>251.56</td>\n",
       "      <td></td>\n",
       "      <td></td>\n",
       "      <td></td>\n",
       "      <td>False</td>\n",
       "      <td></td>\n",
       "      <td></td>\n",
       "      <td>False</td>\n",
       "      <td>False</td>\n",
       "    </tr>\n",
       "    <tr>\n",
       "      <th>541903</th>\n",
       "      <td>100088067</td>\n",
       "      <td>100088067</td>\n",
       "      <td>50000</td>\n",
       "      <td>50000.00</td>\n",
       "      <td>2016-02-02T19:57:18</td>\n",
       "      <td>66.07</td>\n",
       "      <td>EZ Putt Putt #40513</td>\n",
       "      <td>US</td>\n",
       "      <td>US</td>\n",
       "      <td>02</td>\n",
       "      <td>...</td>\n",
       "      <td></td>\n",
       "      <td>0.00</td>\n",
       "      <td></td>\n",
       "      <td></td>\n",
       "      <td></td>\n",
       "      <td>True</td>\n",
       "      <td></td>\n",
       "      <td></td>\n",
       "      <td>False</td>\n",
       "      <td>False</td>\n",
       "    </tr>\n",
       "    <tr>\n",
       "      <th>541904</th>\n",
       "      <td>100088067</td>\n",
       "      <td>100088067</td>\n",
       "      <td>50000</td>\n",
       "      <td>49933.93</td>\n",
       "      <td>2016-02-03T04:48:54</td>\n",
       "      <td>141.60</td>\n",
       "      <td>34th BBQ #412895</td>\n",
       "      <td>US</td>\n",
       "      <td>US</td>\n",
       "      <td>09</td>\n",
       "      <td>...</td>\n",
       "      <td></td>\n",
       "      <td>66.07</td>\n",
       "      <td></td>\n",
       "      <td></td>\n",
       "      <td></td>\n",
       "      <td>True</td>\n",
       "      <td></td>\n",
       "      <td></td>\n",
       "      <td>False</td>\n",
       "      <td>False</td>\n",
       "    </tr>\n",
       "    <tr>\n",
       "      <th>...</th>\n",
       "      <td>...</td>\n",
       "      <td>...</td>\n",
       "      <td>...</td>\n",
       "      <td>...</td>\n",
       "      <td>...</td>\n",
       "      <td>...</td>\n",
       "      <td>...</td>\n",
       "      <td>...</td>\n",
       "      <td>...</td>\n",
       "      <td>...</td>\n",
       "      <td>...</td>\n",
       "      <td>...</td>\n",
       "      <td>...</td>\n",
       "      <td>...</td>\n",
       "      <td>...</td>\n",
       "      <td>...</td>\n",
       "      <td>...</td>\n",
       "      <td>...</td>\n",
       "      <td>...</td>\n",
       "      <td>...</td>\n",
       "      <td>...</td>\n",
       "    </tr>\n",
       "    <tr>\n",
       "      <th>108111</th>\n",
       "      <td>999389635</td>\n",
       "      <td>999389635</td>\n",
       "      <td>5000</td>\n",
       "      <td>4921.32</td>\n",
       "      <td>2016-09-16T15:35:24</td>\n",
       "      <td>267.62</td>\n",
       "      <td>Franks Pub #680641</td>\n",
       "      <td>US</td>\n",
       "      <td>US</td>\n",
       "      <td>09</td>\n",
       "      <td>...</td>\n",
       "      <td></td>\n",
       "      <td>78.68</td>\n",
       "      <td></td>\n",
       "      <td></td>\n",
       "      <td></td>\n",
       "      <td>True</td>\n",
       "      <td></td>\n",
       "      <td></td>\n",
       "      <td>False</td>\n",
       "      <td>False</td>\n",
       "    </tr>\n",
       "    <tr>\n",
       "      <th>108112</th>\n",
       "      <td>999389635</td>\n",
       "      <td>999389635</td>\n",
       "      <td>5000</td>\n",
       "      <td>4653.70</td>\n",
       "      <td>2016-09-22T13:58:30</td>\n",
       "      <td>4.62</td>\n",
       "      <td>Play Store</td>\n",
       "      <td>US</td>\n",
       "      <td>US</td>\n",
       "      <td>05</td>\n",
       "      <td>...</td>\n",
       "      <td></td>\n",
       "      <td>346.30</td>\n",
       "      <td></td>\n",
       "      <td></td>\n",
       "      <td></td>\n",
       "      <td>False</td>\n",
       "      <td></td>\n",
       "      <td></td>\n",
       "      <td>False</td>\n",
       "      <td>False</td>\n",
       "    </tr>\n",
       "    <tr>\n",
       "      <th>108113</th>\n",
       "      <td>999389635</td>\n",
       "      <td>999389635</td>\n",
       "      <td>5000</td>\n",
       "      <td>4674.08</td>\n",
       "      <td>2016-10-23T16:47:41</td>\n",
       "      <td>4.62</td>\n",
       "      <td>Play Store</td>\n",
       "      <td>US</td>\n",
       "      <td>US</td>\n",
       "      <td>05</td>\n",
       "      <td>...</td>\n",
       "      <td></td>\n",
       "      <td>325.92</td>\n",
       "      <td></td>\n",
       "      <td></td>\n",
       "      <td></td>\n",
       "      <td>False</td>\n",
       "      <td></td>\n",
       "      <td></td>\n",
       "      <td>False</td>\n",
       "      <td>False</td>\n",
       "    </tr>\n",
       "    <tr>\n",
       "      <th>108114</th>\n",
       "      <td>999389635</td>\n",
       "      <td>999389635</td>\n",
       "      <td>5000</td>\n",
       "      <td>4694.46</td>\n",
       "      <td>2016-11-24T00:21:46</td>\n",
       "      <td>4.62</td>\n",
       "      <td>Play Store</td>\n",
       "      <td>US</td>\n",
       "      <td>US</td>\n",
       "      <td>05</td>\n",
       "      <td>...</td>\n",
       "      <td></td>\n",
       "      <td>305.54</td>\n",
       "      <td></td>\n",
       "      <td></td>\n",
       "      <td></td>\n",
       "      <td>False</td>\n",
       "      <td></td>\n",
       "      <td></td>\n",
       "      <td>False</td>\n",
       "      <td>False</td>\n",
       "    </tr>\n",
       "    <tr>\n",
       "      <th>108115</th>\n",
       "      <td>999389635</td>\n",
       "      <td>999389635</td>\n",
       "      <td>5000</td>\n",
       "      <td>4714.84</td>\n",
       "      <td>2016-12-24T05:19:30</td>\n",
       "      <td>4.62</td>\n",
       "      <td>Play Store</td>\n",
       "      <td>US</td>\n",
       "      <td>US</td>\n",
       "      <td>05</td>\n",
       "      <td>...</td>\n",
       "      <td></td>\n",
       "      <td>285.16</td>\n",
       "      <td></td>\n",
       "      <td></td>\n",
       "      <td></td>\n",
       "      <td>False</td>\n",
       "      <td></td>\n",
       "      <td></td>\n",
       "      <td>False</td>\n",
       "      <td>False</td>\n",
       "    </tr>\n",
       "  </tbody>\n",
       "</table>\n",
       "<p>786363 rows × 29 columns</p>\n",
       "</div>"
      ],
      "text/plain": [
       "        accountNumber  customerId  creditLimit  availableMoney  \\\n",
       "541900      100088067   100088067        50000        50000.00   \n",
       "541901      100088067   100088067        50000        49794.87   \n",
       "541902      100088067   100088067        50000        49748.44   \n",
       "541903      100088067   100088067        50000        50000.00   \n",
       "541904      100088067   100088067        50000        49933.93   \n",
       "...               ...         ...          ...             ...   \n",
       "108111      999389635   999389635         5000         4921.32   \n",
       "108112      999389635   999389635         5000         4653.70   \n",
       "108113      999389635   999389635         5000         4674.08   \n",
       "108114      999389635   999389635         5000         4694.46   \n",
       "108115      999389635   999389635         5000         4714.84   \n",
       "\n",
       "        transactionDateTime  transactionAmount  \\\n",
       "541900  2016-01-12T00:59:52             205.13   \n",
       "541901  2016-01-12T19:49:41              46.43   \n",
       "541902  2016-01-17T15:41:46             378.67   \n",
       "541903  2016-02-02T19:57:18              66.07   \n",
       "541904  2016-02-03T04:48:54             141.60   \n",
       "...                     ...                ...   \n",
       "108111  2016-09-16T15:35:24             267.62   \n",
       "108112  2016-09-22T13:58:30               4.62   \n",
       "108113  2016-10-23T16:47:41               4.62   \n",
       "108114  2016-11-24T00:21:46               4.62   \n",
       "108115  2016-12-24T05:19:30               4.62   \n",
       "\n",
       "                          merchantName acqCountry merchantCountryCode  \\\n",
       "541900            EZ Putt Putt #982199         US                  US   \n",
       "541901  Dinosaur Sandwitch Bar #303701         US                  US   \n",
       "541902                   Mobile eCards         US                  US   \n",
       "541903             EZ Putt Putt #40513         US                  US   \n",
       "541904                34th BBQ #412895         US                  US   \n",
       "...                                ...        ...                 ...   \n",
       "108111              Franks Pub #680641         US                  US   \n",
       "108112                      Play Store         US                  US   \n",
       "108113                      Play Store         US                  US   \n",
       "108114                      Play Store         US                  US   \n",
       "108115                      Play Store         US                  US   \n",
       "\n",
       "       posEntryMode  ... echoBuffer currentBalance merchantCity merchantState  \\\n",
       "541900           02  ...                      0.00                              \n",
       "541901           05  ...                    205.13                              \n",
       "541902           05  ...                    251.56                              \n",
       "541903           02  ...                      0.00                              \n",
       "541904           09  ...                     66.07                              \n",
       "...             ...  ...        ...            ...          ...           ...   \n",
       "108111           09  ...                     78.68                              \n",
       "108112           05  ...                    346.30                              \n",
       "108113           05  ...                    325.92                              \n",
       "108114           05  ...                    305.54                              \n",
       "108115           05  ...                    285.16                              \n",
       "\n",
       "       merchantZip  cardPresent  posOnPremises  recurringAuthInd  \\\n",
       "541900                     True                                    \n",
       "541901                     True                                    \n",
       "541902                    False                                    \n",
       "541903                     True                                    \n",
       "541904                     True                                    \n",
       "...            ...          ...            ...               ...   \n",
       "108111                     True                                    \n",
       "108112                    False                                    \n",
       "108113                    False                                    \n",
       "108114                    False                                    \n",
       "108115                    False                                    \n",
       "\n",
       "       expirationDateKeyInMatch isFraud  \n",
       "541900                    False   False  \n",
       "541901                    False   False  \n",
       "541902                    False   False  \n",
       "541903                    False   False  \n",
       "541904                    False   False  \n",
       "...                         ...     ...  \n",
       "108111                    False   False  \n",
       "108112                    False   False  \n",
       "108113                    False   False  \n",
       "108114                    False   False  \n",
       "108115                    False   False  \n",
       "\n",
       "[786363 rows x 29 columns]"
      ]
     },
     "execution_count": 62,
     "metadata": {},
     "output_type": "execute_result"
    }
   ],
   "source": [
    "data = data.sort_values(by=['accountNumber','transactionDateTime'])\n",
    "data"
   ]
  },
  {
   "cell_type": "markdown",
   "metadata": {},
   "source": [
    "#### Multi-swipe transactions \n",
    "- First, I define that similar transactions(with same account number and transaction amount) in 10 minutes are multi-swipe\n",
    "- Then I loop all the records to find multi-swipe transactions according to my defination\n",
    "- Finally, I find 13304 records of multi-swipe transactions, with 1,917,460.02 dollars total amount "
   ]
  },
  {
   "cell_type": "code",
   "execution_count": 69,
   "metadata": {},
   "outputs": [],
   "source": [
    "def datediff(date_early, date_late):\n",
    "    return(date_late - date_early).total_seconds()/60"
   ]
  },
  {
   "cell_type": "code",
   "execution_count": 70,
   "metadata": {},
   "outputs": [],
   "source": [
    "is_multi_swipe= []\n",
    "counter = 0\n",
    "amount= 0\n",
    "i=1\n",
    "is_multi_swipe.append(False)\n",
    "while i<len(data):\n",
    "    if data.iloc[i]['accountNumber']==data.iloc[i-1]['accountNumber']\\\n",
    "    and datediff(data.iloc[i-1]['transactionDateTime'],data.iloc[i]['transactionDateTime'])<10\\\n",
    "    and data.iloc[i]['transactionAmount']==data.iloc[i-1]['transactionAmount']:\n",
    "        counter+=1\n",
    "        amount += data.iloc[i]['transactionAmount']\n",
    "        is_multi_swipe.append(True)\n",
    "    else:\n",
    "        is_multi_swipe.append(False)\n",
    "    i+=1;"
   ]
  },
  {
   "cell_type": "code",
   "execution_count": 71,
   "metadata": {},
   "outputs": [
    {
     "data": {
      "text/html": [
       "<div>\n",
       "<style scoped>\n",
       "    .dataframe tbody tr th:only-of-type {\n",
       "        vertical-align: middle;\n",
       "    }\n",
       "\n",
       "    .dataframe tbody tr th {\n",
       "        vertical-align: top;\n",
       "    }\n",
       "\n",
       "    .dataframe thead th {\n",
       "        text-align: right;\n",
       "    }\n",
       "</style>\n",
       "<table border=\"1\" class=\"dataframe\">\n",
       "  <thead>\n",
       "    <tr style=\"text-align: right;\">\n",
       "      <th></th>\n",
       "      <th>accountNumber</th>\n",
       "      <th>customerId</th>\n",
       "      <th>creditLimit</th>\n",
       "      <th>availableMoney</th>\n",
       "      <th>transactionDateTime</th>\n",
       "      <th>transactionAmount</th>\n",
       "      <th>merchantName</th>\n",
       "      <th>acqCountry</th>\n",
       "      <th>merchantCountryCode</th>\n",
       "      <th>posEntryMode</th>\n",
       "      <th>...</th>\n",
       "      <th>echoBuffer</th>\n",
       "      <th>currentBalance</th>\n",
       "      <th>merchantCity</th>\n",
       "      <th>merchantState</th>\n",
       "      <th>merchantZip</th>\n",
       "      <th>cardPresent</th>\n",
       "      <th>posOnPremises</th>\n",
       "      <th>recurringAuthInd</th>\n",
       "      <th>expirationDateKeyInMatch</th>\n",
       "      <th>isFraud</th>\n",
       "    </tr>\n",
       "  </thead>\n",
       "  <tbody>\n",
       "    <tr>\n",
       "      <th>541956</th>\n",
       "      <td>100088067</td>\n",
       "      <td>100088067</td>\n",
       "      <td>50000</td>\n",
       "      <td>49275.09</td>\n",
       "      <td>2016-10-16 18:01:02</td>\n",
       "      <td>411.35</td>\n",
       "      <td>Fresh Flowers</td>\n",
       "      <td>US</td>\n",
       "      <td>US</td>\n",
       "      <td>02</td>\n",
       "      <td>...</td>\n",
       "      <td></td>\n",
       "      <td>724.91</td>\n",
       "      <td></td>\n",
       "      <td></td>\n",
       "      <td></td>\n",
       "      <td>False</td>\n",
       "      <td></td>\n",
       "      <td></td>\n",
       "      <td>False</td>\n",
       "      <td>False</td>\n",
       "    </tr>\n",
       "    <tr>\n",
       "      <th>541964</th>\n",
       "      <td>100088067</td>\n",
       "      <td>100088067</td>\n",
       "      <td>50000</td>\n",
       "      <td>49811.88</td>\n",
       "      <td>2016-11-20 08:00:04</td>\n",
       "      <td>22.32</td>\n",
       "      <td>AMC #79863</td>\n",
       "      <td>US</td>\n",
       "      <td>US</td>\n",
       "      <td>09</td>\n",
       "      <td>...</td>\n",
       "      <td></td>\n",
       "      <td>188.12</td>\n",
       "      <td></td>\n",
       "      <td></td>\n",
       "      <td></td>\n",
       "      <td>True</td>\n",
       "      <td></td>\n",
       "      <td></td>\n",
       "      <td>False</td>\n",
       "      <td>False</td>\n",
       "    </tr>\n",
       "    <tr>\n",
       "      <th>87920</th>\n",
       "      <td>100328049</td>\n",
       "      <td>100328049</td>\n",
       "      <td>5000</td>\n",
       "      <td>4605.10</td>\n",
       "      <td>2016-01-15 20:36:18</td>\n",
       "      <td>43.74</td>\n",
       "      <td>Lyft</td>\n",
       "      <td>US</td>\n",
       "      <td>US</td>\n",
       "      <td>09</td>\n",
       "      <td>...</td>\n",
       "      <td></td>\n",
       "      <td>394.90</td>\n",
       "      <td></td>\n",
       "      <td></td>\n",
       "      <td></td>\n",
       "      <td>False</td>\n",
       "      <td></td>\n",
       "      <td></td>\n",
       "      <td>False</td>\n",
       "      <td>False</td>\n",
       "    </tr>\n",
       "    <tr>\n",
       "      <th>151427</th>\n",
       "      <td>100737756</td>\n",
       "      <td>100737756</td>\n",
       "      <td>250</td>\n",
       "      <td>-44.75</td>\n",
       "      <td>2016-01-18 01:55:28</td>\n",
       "      <td>693.50</td>\n",
       "      <td>Franks Deli</td>\n",
       "      <td>US</td>\n",
       "      <td>US</td>\n",
       "      <td>05</td>\n",
       "      <td>...</td>\n",
       "      <td></td>\n",
       "      <td>294.75</td>\n",
       "      <td></td>\n",
       "      <td></td>\n",
       "      <td></td>\n",
       "      <td>True</td>\n",
       "      <td></td>\n",
       "      <td></td>\n",
       "      <td>False</td>\n",
       "      <td>False</td>\n",
       "    </tr>\n",
       "    <tr>\n",
       "      <th>151428</th>\n",
       "      <td>100737756</td>\n",
       "      <td>100737756</td>\n",
       "      <td>250</td>\n",
       "      <td>-535.03</td>\n",
       "      <td>2016-01-18 01:58:26</td>\n",
       "      <td>693.50</td>\n",
       "      <td>Franks Deli</td>\n",
       "      <td>US</td>\n",
       "      <td>US</td>\n",
       "      <td>05</td>\n",
       "      <td>...</td>\n",
       "      <td></td>\n",
       "      <td>785.03</td>\n",
       "      <td></td>\n",
       "      <td></td>\n",
       "      <td></td>\n",
       "      <td>True</td>\n",
       "      <td></td>\n",
       "      <td></td>\n",
       "      <td>False</td>\n",
       "      <td>False</td>\n",
       "    </tr>\n",
       "    <tr>\n",
       "      <th>...</th>\n",
       "      <td>...</td>\n",
       "      <td>...</td>\n",
       "      <td>...</td>\n",
       "      <td>...</td>\n",
       "      <td>...</td>\n",
       "      <td>...</td>\n",
       "      <td>...</td>\n",
       "      <td>...</td>\n",
       "      <td>...</td>\n",
       "      <td>...</td>\n",
       "      <td>...</td>\n",
       "      <td>...</td>\n",
       "      <td>...</td>\n",
       "      <td>...</td>\n",
       "      <td>...</td>\n",
       "      <td>...</td>\n",
       "      <td>...</td>\n",
       "      <td>...</td>\n",
       "      <td>...</td>\n",
       "      <td>...</td>\n",
       "      <td>...</td>\n",
       "    </tr>\n",
       "    <tr>\n",
       "      <th>569654</th>\n",
       "      <td>999257059</td>\n",
       "      <td>999257059</td>\n",
       "      <td>15000</td>\n",
       "      <td>14177.84</td>\n",
       "      <td>2016-01-14 16:51:22</td>\n",
       "      <td>47.58</td>\n",
       "      <td>Wall Street News</td>\n",
       "      <td>US</td>\n",
       "      <td>US</td>\n",
       "      <td>09</td>\n",
       "      <td>...</td>\n",
       "      <td></td>\n",
       "      <td>822.16</td>\n",
       "      <td></td>\n",
       "      <td></td>\n",
       "      <td></td>\n",
       "      <td>False</td>\n",
       "      <td></td>\n",
       "      <td></td>\n",
       "      <td>False</td>\n",
       "      <td>False</td>\n",
       "    </tr>\n",
       "    <tr>\n",
       "      <th>569751</th>\n",
       "      <td>999257059</td>\n",
       "      <td>999257059</td>\n",
       "      <td>15000</td>\n",
       "      <td>14322.20</td>\n",
       "      <td>2016-08-09 11:25:46</td>\n",
       "      <td>557.11</td>\n",
       "      <td>Washington Times</td>\n",
       "      <td>US</td>\n",
       "      <td>US</td>\n",
       "      <td>05</td>\n",
       "      <td>...</td>\n",
       "      <td></td>\n",
       "      <td>677.80</td>\n",
       "      <td></td>\n",
       "      <td></td>\n",
       "      <td></td>\n",
       "      <td>False</td>\n",
       "      <td></td>\n",
       "      <td></td>\n",
       "      <td>False</td>\n",
       "      <td>False</td>\n",
       "    </tr>\n",
       "    <tr>\n",
       "      <th>545536</th>\n",
       "      <td>999258704</td>\n",
       "      <td>999258704</td>\n",
       "      <td>5000</td>\n",
       "      <td>4246.82</td>\n",
       "      <td>2016-03-16 07:14:17</td>\n",
       "      <td>367.13</td>\n",
       "      <td>Uber</td>\n",
       "      <td>US</td>\n",
       "      <td>US</td>\n",
       "      <td>09</td>\n",
       "      <td>...</td>\n",
       "      <td></td>\n",
       "      <td>753.18</td>\n",
       "      <td></td>\n",
       "      <td></td>\n",
       "      <td></td>\n",
       "      <td>False</td>\n",
       "      <td></td>\n",
       "      <td></td>\n",
       "      <td>False</td>\n",
       "      <td>False</td>\n",
       "    </tr>\n",
       "    <tr>\n",
       "      <th>545581</th>\n",
       "      <td>999258704</td>\n",
       "      <td>999258704</td>\n",
       "      <td>5000</td>\n",
       "      <td>4865.17</td>\n",
       "      <td>2016-09-02 03:33:07</td>\n",
       "      <td>72.93</td>\n",
       "      <td>gap.com</td>\n",
       "      <td>US</td>\n",
       "      <td>US</td>\n",
       "      <td>09</td>\n",
       "      <td>...</td>\n",
       "      <td></td>\n",
       "      <td>134.83</td>\n",
       "      <td></td>\n",
       "      <td></td>\n",
       "      <td></td>\n",
       "      <td>False</td>\n",
       "      <td></td>\n",
       "      <td></td>\n",
       "      <td>False</td>\n",
       "      <td>False</td>\n",
       "    </tr>\n",
       "    <tr>\n",
       "      <th>670027</th>\n",
       "      <td>999283629</td>\n",
       "      <td>999283629</td>\n",
       "      <td>2500</td>\n",
       "      <td>1368.90</td>\n",
       "      <td>2016-04-09 12:56:52</td>\n",
       "      <td>247.40</td>\n",
       "      <td>Delta Airlines</td>\n",
       "      <td>US</td>\n",
       "      <td>US</td>\n",
       "      <td>05</td>\n",
       "      <td>...</td>\n",
       "      <td></td>\n",
       "      <td>1131.10</td>\n",
       "      <td></td>\n",
       "      <td></td>\n",
       "      <td></td>\n",
       "      <td>False</td>\n",
       "      <td></td>\n",
       "      <td></td>\n",
       "      <td>False</td>\n",
       "      <td>False</td>\n",
       "    </tr>\n",
       "  </tbody>\n",
       "</table>\n",
       "<p>13304 rows × 29 columns</p>\n",
       "</div>"
      ],
      "text/plain": [
       "        accountNumber  customerId  creditLimit  availableMoney  \\\n",
       "541956      100088067   100088067        50000        49275.09   \n",
       "541964      100088067   100088067        50000        49811.88   \n",
       "87920       100328049   100328049         5000         4605.10   \n",
       "151427      100737756   100737756          250          -44.75   \n",
       "151428      100737756   100737756          250         -535.03   \n",
       "...               ...         ...          ...             ...   \n",
       "569654      999257059   999257059        15000        14177.84   \n",
       "569751      999257059   999257059        15000        14322.20   \n",
       "545536      999258704   999258704         5000         4246.82   \n",
       "545581      999258704   999258704         5000         4865.17   \n",
       "670027      999283629   999283629         2500         1368.90   \n",
       "\n",
       "       transactionDateTime  transactionAmount      merchantName acqCountry  \\\n",
       "541956 2016-10-16 18:01:02             411.35     Fresh Flowers         US   \n",
       "541964 2016-11-20 08:00:04              22.32        AMC #79863         US   \n",
       "87920  2016-01-15 20:36:18              43.74              Lyft         US   \n",
       "151427 2016-01-18 01:55:28             693.50       Franks Deli         US   \n",
       "151428 2016-01-18 01:58:26             693.50       Franks Deli         US   \n",
       "...                    ...                ...               ...        ...   \n",
       "569654 2016-01-14 16:51:22              47.58  Wall Street News         US   \n",
       "569751 2016-08-09 11:25:46             557.11  Washington Times         US   \n",
       "545536 2016-03-16 07:14:17             367.13              Uber         US   \n",
       "545581 2016-09-02 03:33:07              72.93           gap.com         US   \n",
       "670027 2016-04-09 12:56:52             247.40    Delta Airlines         US   \n",
       "\n",
       "       merchantCountryCode posEntryMode  ... echoBuffer currentBalance  \\\n",
       "541956                  US           02  ...                    724.91   \n",
       "541964                  US           09  ...                    188.12   \n",
       "87920                   US           09  ...                    394.90   \n",
       "151427                  US           05  ...                    294.75   \n",
       "151428                  US           05  ...                    785.03   \n",
       "...                    ...          ...  ...        ...            ...   \n",
       "569654                  US           09  ...                    822.16   \n",
       "569751                  US           05  ...                    677.80   \n",
       "545536                  US           09  ...                    753.18   \n",
       "545581                  US           09  ...                    134.83   \n",
       "670027                  US           05  ...                   1131.10   \n",
       "\n",
       "       merchantCity merchantState merchantZip  cardPresent  posOnPremises  \\\n",
       "541956                                               False                  \n",
       "541964                                                True                  \n",
       "87920                                                False                  \n",
       "151427                                                True                  \n",
       "151428                                                True                  \n",
       "...             ...           ...         ...          ...            ...   \n",
       "569654                                               False                  \n",
       "569751                                               False                  \n",
       "545536                                               False                  \n",
       "545581                                               False                  \n",
       "670027                                               False                  \n",
       "\n",
       "        recurringAuthInd expirationDateKeyInMatch isFraud  \n",
       "541956                                      False   False  \n",
       "541964                                      False   False  \n",
       "87920                                       False   False  \n",
       "151427                                      False   False  \n",
       "151428                                      False   False  \n",
       "...                  ...                      ...     ...  \n",
       "569654                                      False   False  \n",
       "569751                                      False   False  \n",
       "545536                                      False   False  \n",
       "545581                                      False   False  \n",
       "670027                                      False   False  \n",
       "\n",
       "[13304 rows x 29 columns]"
      ]
     },
     "execution_count": 71,
     "metadata": {},
     "output_type": "execute_result"
    }
   ],
   "source": [
    "df1=data[is_multi_swipe]\n",
    "df1"
   ]
  },
  {
   "cell_type": "code",
   "execution_count": 72,
   "metadata": {},
   "outputs": [
    {
     "data": {
      "text/plain": [
       "1917460.02"
      ]
     },
     "execution_count": 72,
     "metadata": {},
     "output_type": "execute_result"
    }
   ],
   "source": [
    "# find total amount of multi-swipe amount \n",
    "df1['transactionAmount'].sum()"
   ]
  },
  {
   "cell_type": "markdown",
   "metadata": {},
   "source": [
    "#### interesting points for multi-swipe transactions"
   ]
  },
  {
   "cell_type": "code",
   "execution_count": 73,
   "metadata": {},
   "outputs": [
    {
     "data": {
      "text/html": [
       "<div>\n",
       "<style scoped>\n",
       "    .dataframe tbody tr th:only-of-type {\n",
       "        vertical-align: middle;\n",
       "    }\n",
       "\n",
       "    .dataframe tbody tr th {\n",
       "        vertical-align: top;\n",
       "    }\n",
       "\n",
       "    .dataframe thead th {\n",
       "        text-align: right;\n",
       "    }\n",
       "</style>\n",
       "<table border=\"1\" class=\"dataframe\">\n",
       "  <thead>\n",
       "    <tr style=\"text-align: right;\">\n",
       "      <th></th>\n",
       "      <th>accountNumber</th>\n",
       "      <th>customerId</th>\n",
       "      <th>creditLimit</th>\n",
       "      <th>availableMoney</th>\n",
       "      <th>transactionAmount</th>\n",
       "      <th>cardCVV</th>\n",
       "      <th>enteredCVV</th>\n",
       "      <th>cardLast4Digits</th>\n",
       "      <th>currentBalance</th>\n",
       "    </tr>\n",
       "  </thead>\n",
       "  <tbody>\n",
       "    <tr>\n",
       "      <th>count</th>\n",
       "      <td>1.330400e+04</td>\n",
       "      <td>1.330400e+04</td>\n",
       "      <td>13304.000000</td>\n",
       "      <td>13304.000000</td>\n",
       "      <td>13304.000000</td>\n",
       "      <td>13304.000000</td>\n",
       "      <td>13304.000000</td>\n",
       "      <td>13304.000000</td>\n",
       "      <td>13304.000000</td>\n",
       "    </tr>\n",
       "    <tr>\n",
       "      <th>mean</th>\n",
       "      <td>5.391690e+08</td>\n",
       "      <td>5.391690e+08</td>\n",
       "      <td>10918.407998</td>\n",
       "      <td>6105.978721</td>\n",
       "      <td>144.126580</td>\n",
       "      <td>542.189116</td>\n",
       "      <td>541.769393</td>\n",
       "      <td>4705.432727</td>\n",
       "      <td>4812.429276</td>\n",
       "    </tr>\n",
       "    <tr>\n",
       "      <th>std</th>\n",
       "      <td>2.550851e+08</td>\n",
       "      <td>2.550851e+08</td>\n",
       "      <td>11775.421070</td>\n",
       "      <td>8736.552353</td>\n",
       "      <td>150.009905</td>\n",
       "      <td>263.341425</td>\n",
       "      <td>263.298030</td>\n",
       "      <td>3011.740057</td>\n",
       "      <td>6676.553211</td>\n",
       "    </tr>\n",
       "    <tr>\n",
       "      <th>min</th>\n",
       "      <td>1.000881e+08</td>\n",
       "      <td>1.000881e+08</td>\n",
       "      <td>250.000000</td>\n",
       "      <td>-614.390000</td>\n",
       "      <td>0.000000</td>\n",
       "      <td>101.000000</td>\n",
       "      <td>20.000000</td>\n",
       "      <td>0.000000</td>\n",
       "      <td>0.000000</td>\n",
       "    </tr>\n",
       "    <tr>\n",
       "      <th>25%</th>\n",
       "      <td>3.335496e+08</td>\n",
       "      <td>3.335496e+08</td>\n",
       "      <td>5000.000000</td>\n",
       "      <td>1065.580000</td>\n",
       "      <td>36.907500</td>\n",
       "      <td>305.000000</td>\n",
       "      <td>305.000000</td>\n",
       "      <td>2112.000000</td>\n",
       "      <td>869.210000</td>\n",
       "    </tr>\n",
       "    <tr>\n",
       "      <th>50%</th>\n",
       "      <td>5.079073e+08</td>\n",
       "      <td>5.079073e+08</td>\n",
       "      <td>7500.000000</td>\n",
       "      <td>3089.365000</td>\n",
       "      <td>98.345000</td>\n",
       "      <td>533.000000</td>\n",
       "      <td>532.000000</td>\n",
       "      <td>4617.000000</td>\n",
       "      <td>2696.380000</td>\n",
       "    </tr>\n",
       "    <tr>\n",
       "      <th>75%</th>\n",
       "      <td>7.676200e+08</td>\n",
       "      <td>7.676200e+08</td>\n",
       "      <td>15000.000000</td>\n",
       "      <td>7358.775000</td>\n",
       "      <td>200.447500</td>\n",
       "      <td>787.000000</td>\n",
       "      <td>785.250000</td>\n",
       "      <td>7308.000000</td>\n",
       "      <td>5762.500000</td>\n",
       "    </tr>\n",
       "    <tr>\n",
       "      <th>max</th>\n",
       "      <td>9.992836e+08</td>\n",
       "      <td>9.992836e+08</td>\n",
       "      <td>50000.000000</td>\n",
       "      <td>50000.000000</td>\n",
       "      <td>1394.190000</td>\n",
       "      <td>998.000000</td>\n",
       "      <td>998.000000</td>\n",
       "      <td>9994.000000</td>\n",
       "      <td>47284.890000</td>\n",
       "    </tr>\n",
       "  </tbody>\n",
       "</table>\n",
       "</div>"
      ],
      "text/plain": [
       "       accountNumber    customerId   creditLimit  availableMoney  \\\n",
       "count   1.330400e+04  1.330400e+04  13304.000000    13304.000000   \n",
       "mean    5.391690e+08  5.391690e+08  10918.407998     6105.978721   \n",
       "std     2.550851e+08  2.550851e+08  11775.421070     8736.552353   \n",
       "min     1.000881e+08  1.000881e+08    250.000000     -614.390000   \n",
       "25%     3.335496e+08  3.335496e+08   5000.000000     1065.580000   \n",
       "50%     5.079073e+08  5.079073e+08   7500.000000     3089.365000   \n",
       "75%     7.676200e+08  7.676200e+08  15000.000000     7358.775000   \n",
       "max     9.992836e+08  9.992836e+08  50000.000000    50000.000000   \n",
       "\n",
       "       transactionAmount       cardCVV    enteredCVV  cardLast4Digits  \\\n",
       "count       13304.000000  13304.000000  13304.000000     13304.000000   \n",
       "mean          144.126580    542.189116    541.769393      4705.432727   \n",
       "std           150.009905    263.341425    263.298030      3011.740057   \n",
       "min             0.000000    101.000000     20.000000         0.000000   \n",
       "25%            36.907500    305.000000    305.000000      2112.000000   \n",
       "50%            98.345000    533.000000    532.000000      4617.000000   \n",
       "75%           200.447500    787.000000    785.250000      7308.000000   \n",
       "max          1394.190000    998.000000    998.000000      9994.000000   \n",
       "\n",
       "       currentBalance  \n",
       "count    13304.000000  \n",
       "mean      4812.429276  \n",
       "std       6676.553211  \n",
       "min          0.000000  \n",
       "25%        869.210000  \n",
       "50%       2696.380000  \n",
       "75%       5762.500000  \n",
       "max      47284.890000  "
      ]
     },
     "execution_count": 73,
     "metadata": {},
     "output_type": "execute_result"
    }
   ],
   "source": [
    "df1.describe()"
   ]
  },
  {
   "cell_type": "markdown",
   "metadata": {},
   "source": [
    "- For overall transactions, 0.63% of transactions are online retails, 0.2% of transactions are online gifts, 0.16% of transactions are entertainments\n",
    "- For non-fradulent transactions, 27% of transactions are online retails, 16% of transactions are fastfood, 11.33% of transactions are entertainments. 10.23% of transactions are food, 8.80% of transactions are online gifts\n",
    "- For multi swipe transactions, the max transaction amount is 1394.19, while for overall transaction, the max transaction amount is around 2011.54"
   ]
  },
  {
   "cell_type": "markdown",
   "metadata": {},
   "source": [
    "## Question 4: Model\n",
    "#### Fraud is a problem for any bank. Fraud can take many forms, whether it is someone stealing a single credit card, to large batches of stolen credit card numbers being used on the web, or even a mass compromise of credit card numbers stolen from a merchant via tools like credit card skimming devices.\n",
    "\n",
    "- Each of the transactions in the dataset has a field called isFraud. Please build a predictive model to determine whether a given transaction will be fraudulent or not. Use as much of the data as you like (or all of it).\n",
    "- Provide an estimate of performance using an appropriate sample, and show your work.\n",
    "- Please explain your methodology (modeling algorithm/method used and why, what features/data you found useful, what questions you have, and what you would do next with more time)"
   ]
  },
  {
   "cell_type": "markdown",
   "metadata": {},
   "source": [
    "## Feature Engineering\n",
    "\n",
    "- check missing values, remove some columns with no values\n",
    "- Reclassify merchantCategoryCode into 7 groups for easier analysis\n",
    "- count the number of fraud transactions of different merchants so as to replace 'MerchantName' feature\n",
    "- convert datetime into numerical variables\n",
    "\n",
    "I notice echoBuffer,merchantCity,merchantState,merchantZip,posOnPremises and recurringAuthIndafter columns have no values at all, so I remove those columns. Besides, there are some missing values in posEntryMode,posConditionCode, transactionType,acqCountry and merchantCountryCode columns, so I drop those missing values. After cleaning, we obtain a dataframe with 756606 rows and 24 columns."
   ]
  },
  {
   "cell_type": "code",
   "execution_count": 75,
   "metadata": {},
   "outputs": [],
   "source": [
    "data['is_multi_swipe']=is_multi_swipe"
   ]
  },
  {
   "cell_type": "code",
   "execution_count": 76,
   "metadata": {},
   "outputs": [],
   "source": [
    "# save a cope of data to csv file\n",
    "data.to_csv('data.csv', index=False)"
   ]
  },
  {
   "cell_type": "code",
   "execution_count": 77,
   "metadata": {},
   "outputs": [],
   "source": [
    "df=data"
   ]
  },
  {
   "cell_type": "markdown",
   "metadata": {},
   "source": [
    "####  accountnumber and customerid are identical, so we delete customerid. "
   ]
  },
  {
   "cell_type": "code",
   "execution_count": 78,
   "metadata": {},
   "outputs": [],
   "source": [
    "# only keep columns that have values, and exclude some columns that have values at all, like echoBuffer,merchantCity,merchantState,merchantZip,posOnPremises,recurringAuthInd\n",
    "df=df.drop(columns=['echoBuffer','merchantCity','merchantState','merchantZip','posOnPremises','recurringAuthInd'])"
   ]
  },
  {
   "cell_type": "code",
   "execution_count": 79,
   "metadata": {},
   "outputs": [],
   "source": [
    "# eliminate missing value \n",
    "df=df.loc[df['posEntryMode']!=''] \n",
    "df=df.loc[df['posConditionCode']!='']\n",
    "df=df.loc[df['transactionType']!='']\n",
    "df=df.loc[df['acqCountry']!='']\n",
    "df=df.loc[df['merchantCountryCode']!='']"
   ]
  },
  {
   "cell_type": "code",
   "execution_count": 80,
   "metadata": {},
   "outputs": [
    {
     "data": {
      "text/plain": [
       "(776668, 24)"
      ]
     },
     "execution_count": 80,
     "metadata": {},
     "output_type": "execute_result"
    }
   ],
   "source": [
    "df.shape"
   ]
  },
  {
   "cell_type": "markdown",
   "metadata": {},
   "source": [
    "### Recassify merchantCategoryCode"
   ]
  },
  {
   "cell_type": "markdown",
   "metadata": {},
   "source": [
    "Considering too many categories in merchantCategoryCode, I reclassify them into 7 categories,which are online, food, travel, phone, health, entertainment and other."
   ]
  },
  {
   "cell_type": "code",
   "execution_count": 81,
   "metadata": {},
   "outputs": [
    {
     "data": {
      "text/plain": [
       "online_retail           199680\n",
       "fastfood                110785\n",
       "entertainment            79149\n",
       "food                     74482\n",
       "online_gifts             65424\n",
       "rideshare                50510\n",
       "hotels                   33669\n",
       "fuel                     23631\n",
       "subscriptions            22630\n",
       "auto                     21345\n",
       "health                   18854\n",
       "personal care            18726\n",
       "airline                  15188\n",
       "mobileapps               14787\n",
       "online_subscriptions     10928\n",
       "furniture                 7347\n",
       "food_delivery             6000\n",
       "gym                       2183\n",
       "cable/phone               1350\n",
       "Name: merchantCategoryCode, dtype: int64"
      ]
     },
     "execution_count": 81,
     "metadata": {},
     "output_type": "execute_result"
    }
   ],
   "source": [
    "df['merchantCategoryCode'].value_counts()"
   ]
  },
  {
   "cell_type": "code",
   "execution_count": 82,
   "metadata": {},
   "outputs": [],
   "source": [
    "df['merchantCategoryCode']=df['merchantCategoryCode'].replace({'online_retail':'online','fastfood':'food','food':'food','online_gifts':'online',\\\n",
    "'rideshare':'travel','hotels':'travel','fuel':'travel','subscriptions':'other','auto':'travel','health':'health','personal care':'health',\\\n",
    "              'mobileapps':'phone','airline':'travel','online_subscriptions':'online','furniture':'other','food_delivery':'food','gym':'health','cable/phone':'phone'})"
   ]
  },
  {
   "cell_type": "markdown",
   "metadata": {},
   "source": [
    "### Data Preprocessing for MerchantName\n",
    "- There are 2490 unique names of fraud merchant, too much for one hot encoding, so I preprocess it. \n",
    "- I group by merchantName with our target variable isFraud and filter the dataset to only get merchant with fraud records, to count the number of fraud transactions for each marchant. "
   ]
  },
  {
   "cell_type": "code",
   "execution_count": 83,
   "metadata": {},
   "outputs": [],
   "source": [
    "merchant_fraud = df.groupby(['merchantName','isFraud']).size().reset_index(name = 'records_Fraud')\n",
    "merchant_fraud=merchant_fraud.loc[(merchant_fraud['isFraud']==True),['merchantName','records_Fraud']]"
   ]
  },
  {
   "cell_type": "code",
   "execution_count": 84,
   "metadata": {},
   "outputs": [],
   "source": [
    "df=pd.merge(merchant_fraud, df, how='outer', on=['merchantName'])\n",
    "df=df.fillna(0)\n",
    "df=df.iloc[:,1:]\n",
    "df.rename(columns={'records_Fraud':'merchant_records_Fraud'}, inplace=True)"
   ]
  },
  {
   "cell_type": "code",
   "execution_count": 86,
   "metadata": {},
   "outputs": [
    {
     "data": {
      "text/plain": [
       "merchant_records_Fraud             float64\n",
       "accountNumber                        int64\n",
       "customerId                           int64\n",
       "creditLimit                          int64\n",
       "availableMoney                     float64\n",
       "transactionDateTime         datetime64[ns]\n",
       "transactionAmount                  float64\n",
       "acqCountry                          object\n",
       "merchantCountryCode                 object\n",
       "posEntryMode                        object\n",
       "posConditionCode                    object\n",
       "merchantCategoryCode                object\n",
       "currentExpDate              datetime64[ns]\n",
       "accountOpenDate             datetime64[ns]\n",
       "dateOfLastAddressChange     datetime64[ns]\n",
       "cardCVV                              int64\n",
       "enteredCVV                           int64\n",
       "cardLast4Digits                      int64\n",
       "transactionType                     object\n",
       "currentBalance                     float64\n",
       "cardPresent                           bool\n",
       "expirationDateKeyInMatch              bool\n",
       "isFraud                               bool\n",
       "is_multi_swipe                        bool\n",
       "dtype: object"
      ]
     },
     "execution_count": 86,
     "metadata": {},
     "output_type": "execute_result"
    }
   ],
   "source": [
    "df.dtypes"
   ]
  },
  {
   "cell_type": "markdown",
   "metadata": {},
   "source": [
    "### Convert datetime to numerical variable"
   ]
  },
  {
   "cell_type": "code",
   "execution_count": 87,
   "metadata": {},
   "outputs": [],
   "source": [
    "df['daysFromLastAddressChange'] = (df['transactionDateTime'] - df['dateOfLastAddressChange']).dt.days\n",
    "df['daystocurrentExpDate']=(df['currentExpDate']- df['transactionDateTime']).dt.days\n",
    "df['daysfromaccountOpenDate']=(df['transactionDateTime'] - df['accountOpenDate']).dt.days\n",
    "df['transactionHour'] = df['transactionDateTime'].dt.hour\n",
    "df['transactionDay'] = df['transactionDateTime'].dt.day\n",
    "df['transactionDow'] = df['transactionDateTime'].dt.weekday\n",
    "df['transactionMonth'] = df['transactionDateTime'].dt.month"
   ]
  },
  {
   "cell_type": "code",
   "execution_count": 88,
   "metadata": {},
   "outputs": [],
   "source": [
    "# convert 'isFraud' to the first column. \n",
    "df = df[ ['isFraud'] + [ col for col in df.columns if col != 'isFraud' ] ]"
   ]
  },
  {
   "cell_type": "markdown",
   "metadata": {},
   "source": [
    "## Correlation Analysis"
   ]
  },
  {
   "cell_type": "code",
   "execution_count": 89,
   "metadata": {},
   "outputs": [
    {
     "data": {
      "image/png": "[encoded data removed]",
      "text/plain": [
       "<Figure size 1152x864 with 2 Axes>"
      ]
     },
     "metadata": {
      "needs_background": "light"
     },
     "output_type": "display_data"
    }
   ],
   "source": [
    "plt.figure(figsize=(16,12))\n",
    "cor = df.corr()\n",
    "sns.heatmap(cor, annot=True, cmap=plt.cm.Reds)\n",
    "plt.show()"
   ]
  },
  {
   "cell_type": "markdown",
   "metadata": {},
   "source": [
    "#### Notice\n",
    "- Generall, features are not highly correlated to the target variabel isFraud\n",
    "- cardCVV and enteredCVV are similar. \n",
    "- creditcard limit and current balance are correlated, which means customers would consume based on their creditcard limit value. \n",
    "- daysFromLastAddressChange and daysfromaccountopendate are correlated, which means customers are rarely move or update their address information after opening account."
   ]
  },
  {
   "cell_type": "markdown",
   "metadata": {},
   "source": [
    "## One hot encoding\n",
    "I use get_dummies in Python to preprocess categorical variables, like merchantCategoryCode,acqCountry,merchantCountryCode,posEntryMode and etc. "
   ]
  },
  {
   "cell_type": "code",
   "execution_count": 90,
   "metadata": {},
   "outputs": [],
   "source": [
    "# get dummies\n",
    "df = pd.concat([df,pd.get_dummies(df['merchantCategoryCode'])],axis=1) #\n",
    "df = pd.concat([df,pd.get_dummies(df['acqCountry'])],axis=1) #\n",
    "df = pd.concat([df,pd.get_dummies(df['transactionType'])],axis=1) #\n",
    "df = pd.concat([df,pd.get_dummies(df['posConditionCode'])],axis=1) #\n",
    "df = pd.concat([df,pd.get_dummies(df['posEntryMode'])],axis=1) "
   ]
  },
  {
   "cell_type": "code",
   "execution_count": 91,
   "metadata": {},
   "outputs": [],
   "source": [
    "dummies_features=['entertainment','food','health','online','other','phone','travel','CAN','MEX','PR','US','ADDRESS_VERIFICATION','PURCHASE','REVERSAL','01','08','99','02','05','09','80','90']\n",
    "for i in dummies_features:\n",
    "    df[i] = df[i].astype(int)"
   ]
  },
  {
   "cell_type": "code",
   "execution_count": 92,
   "metadata": {},
   "outputs": [
    {
     "data": {
      "text/plain": [
       "(776668, 53)"
      ]
     },
     "execution_count": 92,
     "metadata": {},
     "output_type": "execute_result"
    }
   ],
   "source": [
    "# get shape of dataframe after one hot encoding. \n",
    "df.shape"
   ]
  },
  {
   "cell_type": "code",
   "execution_count": 93,
   "metadata": {},
   "outputs": [],
   "source": [
    "#drop columns(datetime and object columns) that I do not need. \n",
    "df=df.drop(columns=['transactionDateTime','currentExpDate','accountOpenDate','dateOfLastAddressChange'],axis=1)\n",
    "df=df.drop(columns=['acqCountry','merchantCountryCode','posEntryMode','posConditionCode','merchantCategoryCode','transactionType'],axis=1)"
   ]
  },
  {
   "cell_type": "code",
   "execution_count": 94,
   "metadata": {},
   "outputs": [],
   "source": [
    "# rename some columns\n",
    "df=df.rename(columns={'entertainment':'categoryEntertainment','food':'categoryFood','health':'categoryHealth','online':'categoryOnline',\\\n",
    "                  'other':'categoryOther', 'phone':'categoryPhone', 'travel':'categoryTravel','CAN':'acqCountryCan', 'MEX':'acqCountryMex',\\\n",
    "                      'PR':'acqCountryPR', 'US':'acqCountryUS','01':'posConditionCode_01', '08':'posConditionCode_08', \\\n",
    "                     '99':'posConditionCode_99','02':'posEntryMode_02', '05':'posEntryMode_05', '09':'posEntryMode_09',\\\n",
    "       '80':'posEntryMode_80', '90':'posEntryMode_90'})"
   ]
  },
  {
   "cell_type": "markdown",
   "metadata": {},
   "source": [
    "## Imbalanced Data \n",
    "- From the following bar plot, we can cleary see that it is a very imbalanced dataset, with only 1.58% of transactions being classified as fraudulent. \n",
    "- Most machine learning algorithms work best when the number of samples in each class are about equal.So I have to tackle with imbalanced dataset.\n"
   ]
  },
  {
   "cell_type": "code",
   "execution_count": 95,
   "metadata": {},
   "outputs": [],
   "source": [
    "counts=df.isFraud.value_counts()"
   ]
  },
  {
   "cell_type": "code",
   "execution_count": 96,
   "metadata": {},
   "outputs": [
    {
     "name": "stdout",
     "output_type": "stream",
     "text": [
      "There were 764702 non-fraudulent transactions (98.459%) and 11966 fraudulent transactions (1.541%).\n"
     ]
    }
   ],
   "source": [
    "normal = counts[0]\n",
    "fraudulent = counts[1]\n",
    "perc_normal = (normal/(normal+fraudulent))*100\n",
    "perc_fraudulent = (fraudulent/(normal+fraudulent))*100\n",
    "print('There were {} non-fraudulent transactions ({:.3f}%) and {} fraudulent transactions ({:.3f}%).'.format(normal, perc_normal, fraudulent, perc_fraudulent))"
   ]
  },
  {
   "cell_type": "code",
   "execution_count": 97,
   "metadata": {},
   "outputs": [
    {
     "data": {
      "text/plain": [
       "Text(0.5, 0, 'Class (0:Non-Fraudulent, 1:Fraudulent)')"
      ]
     },
     "execution_count": 97,
     "metadata": {},
     "output_type": "execute_result"
    },
    {
     "data": {
      "image/png": "[encoded data removed]",
      "text/plain": [
       "<Figure size 432x288 with 1 Axes>"
      ]
     },
     "metadata": {
      "needs_background": "light"
     },
     "output_type": "display_data"
    }
   ],
   "source": [
    "sns.barplot(x=counts.index, y=counts)\n",
    "plt.title('Count of Fraudulent vs. Non-Fraudulent Transactions')\n",
    "plt.ylabel('Count')\n",
    "plt.xlabel('Class (0:Non-Fraudulent, 1:Fraudulent)')"
   ]
  },
  {
   "cell_type": "markdown",
   "metadata": {},
   "source": [
    "### SMOTE\n",
    "- I use SMOTE to resample dataset. SMOTE(Synthetic Minority Oversampling Technique) is an oversampling technique but SMOTE working differently than your typical oversampling.SMOTE works by utilizing a k-nearest neighbor algorithm to create synthetic data. SMOTE first start by choosing random data from the minority class, then k-nearest neighbors from the data are set. Synthetic data would then made between the random data and the randomly selected k-nearest neighbor. \n",
    "- As an addition, I only oversample my training data, so I split the data first before oversampled the training data."
   ]
  },
  {
   "cell_type": "code",
   "execution_count": 98,
   "metadata": {},
   "outputs": [],
   "source": [
    "from sklearn.model_selection import train_test_split\n",
    "from imblearn.over_sampling import SMOTE\n",
    "\n",
    "X = df.loc[:, df.columns != 'isFraud']\n",
    "y = df['isFraud']\n",
    "X_train, X_test, y_train, y_test = train_test_split(X, y, test_size=0.33, random_state=42)"
   ]
  },
  {
   "cell_type": "code",
   "execution_count": 99,
   "metadata": {},
   "outputs": [
    {
     "name": "stdout",
     "output_type": "stream",
     "text": [
      "(520367, 42) (256301, 42) (520367,) (256301,)\n"
     ]
    }
   ],
   "source": [
    "print(X_train.shape,  X_test.shape, y_train.shape,  y_test.shape)"
   ]
  },
  {
   "cell_type": "code",
   "execution_count": 100,
   "metadata": {},
   "outputs": [],
   "source": [
    "sm = SMOTE()\n",
    "X_train_res, y_train_res = sm.fit_resample(X_train, y_train)"
   ]
  },
  {
   "cell_type": "code",
   "execution_count": 101,
   "metadata": {},
   "outputs": [
    {
     "data": {
      "text/plain": [
       "((1024506, 42), (1024506,))"
      ]
     },
     "execution_count": 101,
     "metadata": {},
     "output_type": "execute_result"
    }
   ],
   "source": [
    "X_train_res.shape, y_train_res.shape"
   ]
  },
  {
   "cell_type": "markdown",
   "metadata": {},
   "source": [
    "## Baseline Prediction with Logistic Regression"
   ]
  },
  {
   "cell_type": "markdown",
   "metadata": {},
   "source": [
    "- I use StandardScaler o standardize features by subtracting the mean and then scaling to unit variance. \n",
    "- I set penalty to Ridge regularization in order to prevent overfitting to some degree."
   ]
  },
  {
   "cell_type": "code",
   "execution_count": 102,
   "metadata": {},
   "outputs": [],
   "source": [
    "from sklearn.preprocessing import StandardScaler\n",
    "scaling = StandardScaler()\n",
    "X_train_s = scaling.fit_transform(X_train_res)\n",
    "X_test_s = scaling.transform(X_test)"
   ]
  },
  {
   "cell_type": "code",
   "execution_count": 103,
   "metadata": {},
   "outputs": [
    {
     "name": "stderr",
     "output_type": "stream",
     "text": [
      "/opt/anaconda3/lib/python3.8/site-packages/sklearn/linear_model/_logistic.py:762: ConvergenceWarning: lbfgs failed to converge (status=1):\n",
      "STOP: TOTAL NO. of ITERATIONS REACHED LIMIT.\n",
      "\n",
      "Increase the number of iterations (max_iter) or scale the data as shown in:\n",
      "    https://scikit-learn.org/stable/modules/preprocessing.html\n",
      "Please also refer to the documentation for alternative solver options:\n",
      "    https://scikit-learn.org/stable/modules/linear_model.html#logistic-regression\n",
      "  n_iter_i = _check_optimize_result(\n"
     ]
    },
    {
     "data": {
      "text/plain": [
       "LogisticRegression(random_state=10)"
      ]
     },
     "execution_count": 103,
     "metadata": {},
     "output_type": "execute_result"
    }
   ],
   "source": [
    "from sklearn.linear_model import LogisticRegression\n",
    "from sklearn.metrics import accuracy_score\n",
    "lg = LogisticRegression(penalty = 'l2', random_state=10)\n",
    "lg.fit(X_train_s, y_train_res)"
   ]
  },
  {
   "cell_type": "code",
   "execution_count": 104,
   "metadata": {},
   "outputs": [],
   "source": [
    "y_pred = lg.predict(X_test)\n",
    "y_proba=lg.predict_proba(X_test)[:,1]"
   ]
  },
  {
   "cell_type": "markdown",
   "metadata": {},
   "source": [
    "### Evaluation Metrics\n",
    "Establish evaluation metrics to evaluate the performance of logistic regression model"
   ]
  },
  {
   "cell_type": "code",
   "execution_count": 106,
   "metadata": {},
   "outputs": [
    {
     "name": "stdout",
     "output_type": "stream",
     "text": [
      "Accuracy of logistic regression classifier on test set: 0.98\n"
     ]
    }
   ],
   "source": [
    "print('Accuracy of logistic regression classifier on test set: {:.2f}'.format(lg.score(X_test, y_test)))"
   ]
  },
  {
   "cell_type": "code",
   "execution_count": 107,
   "metadata": {},
   "outputs": [
    {
     "name": "stdout",
     "output_type": "stream",
     "text": [
      "              precision    recall  f1-score   support\n",
      "\n",
      "       False       0.98      1.00      0.99    252449\n",
      "        True       0.00      0.00      0.00      3852\n",
      "\n",
      "    accuracy                           0.98    256301\n",
      "   macro avg       0.49      0.50      0.50    256301\n",
      "weighted avg       0.97      0.98      0.98    256301\n",
      "\n"
     ]
    },
    {
     "name": "stderr",
     "output_type": "stream",
     "text": [
      "/opt/anaconda3/lib/python3.8/site-packages/sklearn/metrics/_classification.py:1221: UndefinedMetricWarning: Precision and F-score are ill-defined and being set to 0.0 in labels with no predicted samples. Use `zero_division` parameter to control this behavior.\n",
      "  _warn_prf(average, modifier, msg_start, len(result))\n"
     ]
    }
   ],
   "source": [
    "from sklearn.metrics import classification_report\n",
    "print(classification_report(y_test, y_pred))"
   ]
  },
  {
   "cell_type": "code",
   "execution_count": 109,
   "metadata": {},
   "outputs": [
    {
     "data": {
      "image/png": "[encoded data removed]",
      "text/plain": [
       "<Figure size 432x288 with 1 Axes>"
      ]
     },
     "metadata": {
      "needs_background": "light"
     },
     "output_type": "display_data"
    }
   ],
   "source": [
    "from sklearn.metrics import roc_curve, auc\n",
    "pred_train = lg.predict_proba(X_train_s)[:,1]\n",
    "pred_test = lg.predict_proba(X_test_s)[:,1]\n",
    "fpr_train, tpr_train,thresholds_train= roc_curve(y_train_res, pred_train)\n",
    "fpr_test, tpr_test, thresholds_test = roc_curve(y_test, pred_test)\n",
    "plt.plot(fpr_train, tpr_train, color='r')\n",
    "plt.plot(fpr_test, tpr_test, color='b')\n",
    "plt.title('ROC-AUC')\n",
    "plt.xlabel('False Positive Rate')\n",
    "plt.ylabel('True Positive Rate')\n",
    "plt.show()"
   ]
  },
  {
   "cell_type": "code",
   "execution_count": 110,
   "metadata": {},
   "outputs": [
    {
     "name": "stdout",
     "output_type": "stream",
     "text": [
      "Area under the ROC curve - train data: 0.968672\n",
      "Area under the ROC curve - test data: 0.689731\n"
     ]
    }
   ],
   "source": [
    "roc_auc_train = auc(fpr_train, tpr_train)\n",
    "roc_auc_test = auc(fpr_test, tpr_test)\n",
    "print(\"Area under the ROC curve - train data: %f\" % roc_auc_train)\n",
    "print(\"Area under the ROC curve - test data: %f\" % roc_auc_test)"
   ]
  },
  {
   "cell_type": "markdown",
   "metadata": {},
   "source": [
    "- in the model, I chose parameter penalty = 'l2' to tackle with overfitting\n",
    "- I establish metrics to evaluate the performance of model, including Accuracy, classification_report, Roc-Auc and etc. Considering the nature of this project, I decide to use Roc-Auc to evaluate. From the above plot, we can see that it works great in training data, but performs not so good with test data, only with Auc 0.6897"
   ]
  },
  {
   "cell_type": "markdown",
   "metadata": {},
   "source": [
    "## Random Forest Model"
   ]
  },
  {
   "cell_type": "code",
   "execution_count": 111,
   "metadata": {},
   "outputs": [],
   "source": [
    "from sklearn.tree import DecisionTreeClassifier\n",
    "from sklearn.ensemble import RandomForestClassifier\n",
    "import collections\n",
    "from sklearn.metrics import accuracy_score\n",
    "from sklearn.metrics import precision_score\n",
    "from sklearn.metrics import recall_score\n",
    "import sklearn.metrics as metrics"
   ]
  },
  {
   "cell_type": "code",
   "execution_count": 112,
   "metadata": {},
   "outputs": [],
   "source": [
    "forest = RandomForestClassifier(random_state = 1)\n",
    "modelF = forest.fit(X_train_res, y_train_res)\n",
    "pred=modelF.predict_proba(X_test)[:,1]\n",
    "y_pred = modelF.predict(X_test)"
   ]
  },
  {
   "cell_type": "markdown",
   "metadata": {},
   "source": [
    "### Evaluation Metrics"
   ]
  },
  {
   "cell_type": "code",
   "execution_count": 113,
   "metadata": {},
   "outputs": [
    {
     "name": "stdout",
     "output_type": "stream",
     "text": [
      "Accuracy: 0.983917347181634\n",
      "Precision: 0.3308270676691729\n",
      "Recall: 0.06853582554517133\n"
     ]
    }
   ],
   "source": [
    "print(\"Accuracy:\", metrics.accuracy_score(y_test, y_pred)),\n",
    "print(\"Precision:\", metrics.precision_score(y_test, y_pred)),\n",
    "print(\"Recall:\", metrics.recall_score(y_test, y_pred))"
   ]
  },
  {
   "cell_type": "code",
   "execution_count": 114,
   "metadata": {},
   "outputs": [
    {
     "name": "stdout",
     "output_type": "stream",
     "text": [
      "confusion_matrix:\n",
      "[[ 76274 176175]\n",
      " [   174   3678]]\n"
     ]
    }
   ],
   "source": [
    "#confusion_matrix\n",
    "pred = pred.astype(bool)\n",
    "cnf_matrix = metrics.confusion_matrix(y_test, pred)\n",
    "print(\"confusion_matrix:\")\n",
    "print(cnf_matrix)"
   ]
  },
  {
   "cell_type": "code",
   "execution_count": 115,
   "metadata": {},
   "outputs": [
    {
     "data": {
      "image/png": "[encoded data removed]",
      "text/plain": [
       "<Figure size 432x288 with 1 Axes>"
      ]
     },
     "metadata": {
      "needs_background": "light"
     },
     "output_type": "display_data"
    }
   ],
   "source": [
    "pred_train = modelF.predict_proba(X_train_res)[:,1]\n",
    "pred_test = modelF.predict_proba(X_test)[:,1]\n",
    "fpr_train, tpr_train, thresholds_train = roc_curve(y_train_res, pred_train)\n",
    "fpr_test, tpr_test, thresholds_test = roc_curve(y_test, pred_test)\n",
    "plt.plot(fpr_train, tpr_train, color='r')\n",
    "plt.plot(fpr_test, tpr_test, color='b')\n",
    "plt.title('ROC-AUC')\n",
    "plt.xlabel('False Positive Rate')\n",
    "plt.ylabel('True Positive Rate')\n",
    "plt.show()"
   ]
  },
  {
   "cell_type": "code",
   "execution_count": 116,
   "metadata": {},
   "outputs": [
    {
     "name": "stdout",
     "output_type": "stream",
     "text": [
      "Area under the ROC curve - train data: 1.000000\n",
      "Area under the ROC curve - test data: 0.810782\n"
     ]
    }
   ],
   "source": [
    "roc_auc_train = auc(fpr_train, tpr_train)\n",
    "roc_auc_test = auc(fpr_test, tpr_test)\n",
    "print(\"Area under the ROC curve - train data: %f\" % roc_auc_train)\n",
    "print(\"Area under the ROC curve - test data: %f\" % roc_auc_test)"
   ]
  },
  {
   "cell_type": "markdown",
   "metadata": {},
   "source": [
    "For training data, AUC=1, while for the test data it is only 0.81, which implies overfitting probelm. I am supposed to use GridSearchCV to tune hyperparameters and improve the model, but it runs too slow for GridSearchCV, especially in this case, with such huge dataset. So I did not use it. It is one thing that I can improve in the future for this model. "
   ]
  },
  {
   "cell_type": "markdown",
   "metadata": {},
   "source": [
    "### XGBoost"
   ]
  },
  {
   "cell_type": "code",
   "execution_count": 126,
   "metadata": {},
   "outputs": [],
   "source": [
    "from xgboost import XGBClassifier\n",
    "import xgboost as xgb"
   ]
  },
  {
   "cell_type": "code",
   "execution_count": 127,
   "metadata": {},
   "outputs": [],
   "source": [
    "train_xgb = xgb.DMatrix(X_train_res, y_train_res, missing = np.NAN)\n",
    "test_xgb = xgb.DMatrix(X_test, y_test, missing = np.NAN)"
   ]
  },
  {
   "cell_type": "code",
   "execution_count": 130,
   "metadata": {},
   "outputs": [],
   "source": [
    "params = {\n",
    "    'obj':'binary:logistic',\n",
    "    'booster' : 'gbtree',\n",
    "    'max_depth':3,\n",
    "    'eta':0.2,\n",
    "    'silent':False,\n",
    "    'eta':0.2,\n",
    "    'colsample_bytree':0.9,\n",
    "    'eval_metric': 'auc'\n",
    "}"
   ]
  },
  {
   "cell_type": "code",
   "execution_count": 135,
   "metadata": {},
   "outputs": [
    {
     "name": "stdout",
     "output_type": "stream",
     "text": [
      "[06:43:32] WARNING: /Users/travis/build/dmlc/xgboost/src/learner.cc:541: \n",
      "Parameters: { obj, silent } might not be used.\n",
      "\n",
      "  This may not be accurate due to some parameters are only used in language bindings but\n",
      "  passed down to XGBoost core.  Or some parameters are not used but slip through this\n",
      "  verification. Please open an issue if you find above cases.\n",
      "\n",
      "\n",
      "[0]\ttrain-auc:0.82651\teval-auc:0.70582\n",
      "[1]\ttrain-auc:0.84962\teval-auc:0.68828\n",
      "[2]\ttrain-auc:0.87769\teval-auc:0.72968\n",
      "[3]\ttrain-auc:0.91672\teval-auc:0.72793\n",
      "[4]\ttrain-auc:0.92492\teval-auc:0.73302\n",
      "[5]\ttrain-auc:0.92905\teval-auc:0.73486\n",
      "[6]\ttrain-auc:0.93381\teval-auc:0.73568\n",
      "[7]\ttrain-auc:0.93651\teval-auc:0.73705\n",
      "[8]\ttrain-auc:0.94350\teval-auc:0.73767\n",
      "[9]\ttrain-auc:0.94863\teval-auc:0.74287\n",
      "[10]\ttrain-auc:0.95020\teval-auc:0.73970\n",
      "[11]\ttrain-auc:0.95024\teval-auc:0.74111\n",
      "[12]\ttrain-auc:0.95119\teval-auc:0.74175\n",
      "[13]\ttrain-auc:0.95385\teval-auc:0.74299\n",
      "[14]\ttrain-auc:0.95572\teval-auc:0.74483\n",
      "[15]\ttrain-auc:0.95643\teval-auc:0.74511\n",
      "[16]\ttrain-auc:0.95826\teval-auc:0.74656\n",
      "[17]\ttrain-auc:0.95958\teval-auc:0.74621\n",
      "[18]\ttrain-auc:0.96029\teval-auc:0.74304\n",
      "[19]\ttrain-auc:0.96120\teval-auc:0.74247\n",
      "[20]\ttrain-auc:0.96231\teval-auc:0.74121\n",
      "[21]\ttrain-auc:0.96348\teval-auc:0.74034\n",
      "[22]\ttrain-auc:0.96360\teval-auc:0.74049\n",
      "[23]\ttrain-auc:0.96415\teval-auc:0.74222\n",
      "[24]\ttrain-auc:0.96461\teval-auc:0.74224\n",
      "[25]\ttrain-auc:0.96517\teval-auc:0.74119\n",
      "[26]\ttrain-auc:0.96653\teval-auc:0.74357\n",
      "[27]\ttrain-auc:0.96700\teval-auc:0.74428\n",
      "[28]\ttrain-auc:0.96814\teval-auc:0.74687\n",
      "[29]\ttrain-auc:0.96852\teval-auc:0.74591\n",
      "[30]\ttrain-auc:0.96894\teval-auc:0.74630\n",
      "[31]\ttrain-auc:0.96917\teval-auc:0.74558\n",
      "[32]\ttrain-auc:0.96966\teval-auc:0.74545\n",
      "[33]\ttrain-auc:0.97006\teval-auc:0.74576\n",
      "[34]\ttrain-auc:0.97038\teval-auc:0.74536\n",
      "[35]\ttrain-auc:0.97067\teval-auc:0.74456\n",
      "[36]\ttrain-auc:0.97094\teval-auc:0.74399\n",
      "[37]\ttrain-auc:0.97138\teval-auc:0.74399\n",
      "[38]\ttrain-auc:0.97196\teval-auc:0.74449\n",
      "[39]\ttrain-auc:0.97239\teval-auc:0.74649\n",
      "[40]\ttrain-auc:0.97259\teval-auc:0.74585\n",
      "[41]\ttrain-auc:0.97273\teval-auc:0.74571\n",
      "[42]\ttrain-auc:0.97298\teval-auc:0.74689\n",
      "[43]\ttrain-auc:0.97310\teval-auc:0.74625\n",
      "[44]\ttrain-auc:0.97384\teval-auc:0.74845\n",
      "[45]\ttrain-auc:0.97393\teval-auc:0.74715\n",
      "[46]\ttrain-auc:0.97414\teval-auc:0.74705\n",
      "[47]\ttrain-auc:0.97439\teval-auc:0.74770\n",
      "[48]\ttrain-auc:0.97466\teval-auc:0.74795\n",
      "[49]\ttrain-auc:0.97480\teval-auc:0.74786\n",
      "[50]\ttrain-auc:0.97495\teval-auc:0.74777\n",
      "[51]\ttrain-auc:0.97510\teval-auc:0.74847\n",
      "[52]\ttrain-auc:0.97548\teval-auc:0.74892\n",
      "[53]\ttrain-auc:0.97597\teval-auc:0.75286\n",
      "[54]\ttrain-auc:0.97623\teval-auc:0.75388\n",
      "[55]\ttrain-auc:0.97642\teval-auc:0.75457\n",
      "[56]\ttrain-auc:0.97649\teval-auc:0.75387\n",
      "[57]\ttrain-auc:0.97658\teval-auc:0.75346\n",
      "[58]\ttrain-auc:0.97673\teval-auc:0.75442\n",
      "[59]\ttrain-auc:0.97687\teval-auc:0.75492\n",
      "[60]\ttrain-auc:0.97709\teval-auc:0.75548\n",
      "[61]\ttrain-auc:0.97716\teval-auc:0.75503\n",
      "[62]\ttrain-auc:0.97725\teval-auc:0.75457\n",
      "[63]\ttrain-auc:0.97738\teval-auc:0.75532\n",
      "[64]\ttrain-auc:0.97750\teval-auc:0.75528\n",
      "[65]\ttrain-auc:0.97759\teval-auc:0.75544\n",
      "[66]\ttrain-auc:0.97768\teval-auc:0.75552\n",
      "[67]\ttrain-auc:0.97784\teval-auc:0.75607\n",
      "[68]\ttrain-auc:0.97788\teval-auc:0.75509\n",
      "[69]\ttrain-auc:0.97817\teval-auc:0.75579\n",
      "[70]\ttrain-auc:0.97847\teval-auc:0.75759\n",
      "[71]\ttrain-auc:0.97869\teval-auc:0.75768\n",
      "[72]\ttrain-auc:0.97890\teval-auc:0.75941\n",
      "[73]\ttrain-auc:0.97893\teval-auc:0.75933\n",
      "[74]\ttrain-auc:0.97901\teval-auc:0.75922\n",
      "[75]\ttrain-auc:0.97909\teval-auc:0.75970\n",
      "[76]\ttrain-auc:0.97920\teval-auc:0.75944\n",
      "[77]\ttrain-auc:0.97928\teval-auc:0.75910\n",
      "[78]\ttrain-auc:0.97950\teval-auc:0.75917\n",
      "[79]\ttrain-auc:0.97960\teval-auc:0.75959\n",
      "[80]\ttrain-auc:0.97968\teval-auc:0.76009\n",
      "[81]\ttrain-auc:0.97973\teval-auc:0.76031\n",
      "[82]\ttrain-auc:0.97982\teval-auc:0.76065\n",
      "[83]\ttrain-auc:0.98000\teval-auc:0.76132\n",
      "[84]\ttrain-auc:0.98023\teval-auc:0.76135\n",
      "[85]\ttrain-auc:0.98037\teval-auc:0.76193\n",
      "[86]\ttrain-auc:0.98044\teval-auc:0.76240\n",
      "[87]\ttrain-auc:0.98059\teval-auc:0.76363\n",
      "[88]\ttrain-auc:0.98064\teval-auc:0.76358\n",
      "[89]\ttrain-auc:0.98080\teval-auc:0.76381\n",
      "[90]\ttrain-auc:0.98085\teval-auc:0.76401\n",
      "[91]\ttrain-auc:0.98098\teval-auc:0.76403\n",
      "[92]\ttrain-auc:0.98107\teval-auc:0.76379\n",
      "[93]\ttrain-auc:0.98128\teval-auc:0.76353\n",
      "[94]\ttrain-auc:0.98130\teval-auc:0.76313\n",
      "[95]\ttrain-auc:0.98134\teval-auc:0.76330\n",
      "[96]\ttrain-auc:0.98136\teval-auc:0.76328\n",
      "[97]\ttrain-auc:0.98141\teval-auc:0.76318\n",
      "[98]\ttrain-auc:0.98152\teval-auc:0.76453\n",
      "[99]\ttrain-auc:0.98179\teval-auc:0.76560\n",
      "[100]\ttrain-auc:0.98184\teval-auc:0.76559\n",
      "[101]\ttrain-auc:0.98203\teval-auc:0.76554\n",
      "[102]\ttrain-auc:0.98216\teval-auc:0.76530\n",
      "[103]\ttrain-auc:0.98219\teval-auc:0.76545\n",
      "[104]\ttrain-auc:0.98227\teval-auc:0.76593\n",
      "[105]\ttrain-auc:0.98232\teval-auc:0.76577\n",
      "[106]\ttrain-auc:0.98233\teval-auc:0.76591\n",
      "[107]\ttrain-auc:0.98239\teval-auc:0.76596\n",
      "[108]\ttrain-auc:0.98244\teval-auc:0.76583\n",
      "[109]\ttrain-auc:0.98247\teval-auc:0.76582\n",
      "[110]\ttrain-auc:0.98249\teval-auc:0.76605\n",
      "[111]\ttrain-auc:0.98267\teval-auc:0.76675\n",
      "[112]\ttrain-auc:0.98269\teval-auc:0.76663\n",
      "[113]\ttrain-auc:0.98280\teval-auc:0.76672\n",
      "[114]\ttrain-auc:0.98284\teval-auc:0.76657\n",
      "[115]\ttrain-auc:0.98293\teval-auc:0.76665\n",
      "[116]\ttrain-auc:0.98294\teval-auc:0.76627\n",
      "[117]\ttrain-auc:0.98294\teval-auc:0.76632\n",
      "[118]\ttrain-auc:0.98296\teval-auc:0.76618\n",
      "[119]\ttrain-auc:0.98312\teval-auc:0.76649\n",
      "[120]\ttrain-auc:0.98321\teval-auc:0.76690\n",
      "[121]\ttrain-auc:0.98343\teval-auc:0.76684\n",
      "[122]\ttrain-auc:0.98340\teval-auc:0.76683\n",
      "[123]\ttrain-auc:0.98335\teval-auc:0.76705\n",
      "[124]\ttrain-auc:0.98341\teval-auc:0.76682\n",
      "[125]\ttrain-auc:0.98348\teval-auc:0.76694\n",
      "[126]\ttrain-auc:0.98354\teval-auc:0.76668\n",
      "[127]\ttrain-auc:0.98364\teval-auc:0.76764\n",
      "[128]\ttrain-auc:0.98366\teval-auc:0.76767\n",
      "[129]\ttrain-auc:0.98369\teval-auc:0.76777\n",
      "[130]\ttrain-auc:0.98372\teval-auc:0.76755\n",
      "[131]\ttrain-auc:0.98375\teval-auc:0.76787\n",
      "[132]\ttrain-auc:0.98384\teval-auc:0.76814\n",
      "[133]\ttrain-auc:0.98389\teval-auc:0.76761\n",
      "[134]\ttrain-auc:0.98391\teval-auc:0.76799\n",
      "[135]\ttrain-auc:0.98393\teval-auc:0.76809\n",
      "[136]\ttrain-auc:0.98400\teval-auc:0.76845\n",
      "[137]\ttrain-auc:0.98403\teval-auc:0.76868\n",
      "[138]\ttrain-auc:0.98405\teval-auc:0.76873\n",
      "[139]\ttrain-auc:0.98409\teval-auc:0.76875\n",
      "[140]\ttrain-auc:0.98414\teval-auc:0.76845\n",
      "[141]\ttrain-auc:0.98418\teval-auc:0.76900\n",
      "[142]\ttrain-auc:0.98421\teval-auc:0.76925\n",
      "[143]\ttrain-auc:0.98423\teval-auc:0.76906\n",
      "[144]\ttrain-auc:0.98429\teval-auc:0.76953\n",
      "[145]\ttrain-auc:0.98433\teval-auc:0.76988\n",
      "[146]\ttrain-auc:0.98434\teval-auc:0.76983\n",
      "[147]\ttrain-auc:0.98438\teval-auc:0.77002\n",
      "[148]\ttrain-auc:0.98459\teval-auc:0.76948\n",
      "[149]\ttrain-auc:0.98467\teval-auc:0.76950\n",
      "[150]\ttrain-auc:0.98467\teval-auc:0.76972\n",
      "[151]\ttrain-auc:0.98468\teval-auc:0.76966\n",
      "[152]\ttrain-auc:0.98469\teval-auc:0.76966\n",
      "[153]\ttrain-auc:0.98472\teval-auc:0.76970\n",
      "[154]\ttrain-auc:0.98475\teval-auc:0.76950\n",
      "[155]\ttrain-auc:0.98487\teval-auc:0.76949\n",
      "[156]\ttrain-auc:0.98486\teval-auc:0.76943\n",
      "[157]\ttrain-auc:0.98492\teval-auc:0.76983\n",
      "[158]\ttrain-auc:0.98493\teval-auc:0.76959\n",
      "[159]\ttrain-auc:0.98509\teval-auc:0.76950\n",
      "[160]\ttrain-auc:0.98508\teval-auc:0.76947\n",
      "[161]\ttrain-auc:0.98512\teval-auc:0.76938\n",
      "[162]\ttrain-auc:0.98517\teval-auc:0.76962\n",
      "[163]\ttrain-auc:0.98526\teval-auc:0.76963\n",
      "[164]\ttrain-auc:0.98533\teval-auc:0.77029\n",
      "[165]\ttrain-auc:0.98535\teval-auc:0.77036\n",
      "[166]\ttrain-auc:0.98542\teval-auc:0.77082\n",
      "[167]\ttrain-auc:0.98553\teval-auc:0.77034\n",
      "[168]\ttrain-auc:0.98554\teval-auc:0.77037\n",
      "[169]\ttrain-auc:0.98555\teval-auc:0.77045\n",
      "[170]\ttrain-auc:0.98560\teval-auc:0.77040\n",
      "[171]\ttrain-auc:0.98572\teval-auc:0.77035\n",
      "[172]\ttrain-auc:0.98581\teval-auc:0.77026\n",
      "[173]\ttrain-auc:0.98583\teval-auc:0.77050\n",
      "[174]\ttrain-auc:0.98585\teval-auc:0.77033\n",
      "[175]\ttrain-auc:0.98593\teval-auc:0.77017\n",
      "[176]\ttrain-auc:0.98595\teval-auc:0.77046\n",
      "[177]\ttrain-auc:0.98600\teval-auc:0.77064\n",
      "[178]\ttrain-auc:0.98599\teval-auc:0.77055\n",
      "[179]\ttrain-auc:0.98601\teval-auc:0.77078\n",
      "[180]\ttrain-auc:0.98609\teval-auc:0.77078\n",
      "[181]\ttrain-auc:0.98613\teval-auc:0.77118\n",
      "[182]\ttrain-auc:0.98610\teval-auc:0.77116\n",
      "[183]\ttrain-auc:0.98613\teval-auc:0.77128\n",
      "[184]\ttrain-auc:0.98618\teval-auc:0.77178\n",
      "[185]\ttrain-auc:0.98622\teval-auc:0.77142\n",
      "[186]\ttrain-auc:0.98622\teval-auc:0.77160\n",
      "[187]\ttrain-auc:0.98623\teval-auc:0.77173\n",
      "[188]\ttrain-auc:0.98624\teval-auc:0.77179\n",
      "[189]\ttrain-auc:0.98626\teval-auc:0.77206\n",
      "[190]\ttrain-auc:0.98627\teval-auc:0.77188\n",
      "[191]\ttrain-auc:0.98645\teval-auc:0.77150\n",
      "[192]\ttrain-auc:0.98653\teval-auc:0.77128\n",
      "[193]\ttrain-auc:0.98655\teval-auc:0.77118\n",
      "[194]\ttrain-auc:0.98661\teval-auc:0.77119\n",
      "[195]\ttrain-auc:0.98671\teval-auc:0.77140\n",
      "[196]\ttrain-auc:0.98677\teval-auc:0.77140\n",
      "[197]\ttrain-auc:0.98679\teval-auc:0.77145\n",
      "[198]\ttrain-auc:0.98681\teval-auc:0.77163\n",
      "[199]\ttrain-auc:0.98685\teval-auc:0.77155\n",
      "[200]\ttrain-auc:0.98695\teval-auc:0.77132\n",
      "[201]\ttrain-auc:0.98698\teval-auc:0.77154\n",
      "[202]\ttrain-auc:0.98702\teval-auc:0.77137\n",
      "[203]\ttrain-auc:0.98699\teval-auc:0.77078\n",
      "[204]\ttrain-auc:0.98702\teval-auc:0.77083\n",
      "[205]\ttrain-auc:0.98700\teval-auc:0.77098\n",
      "[206]\ttrain-auc:0.98705\teval-auc:0.77113\n",
      "[207]\ttrain-auc:0.98706\teval-auc:0.77103\n",
      "[208]\ttrain-auc:0.98710\teval-auc:0.77120\n",
      "[209]\ttrain-auc:0.98714\teval-auc:0.77169\n",
      "[210]\ttrain-auc:0.98714\teval-auc:0.77178\n",
      "[211]\ttrain-auc:0.98728\teval-auc:0.77152\n",
      "[212]\ttrain-auc:0.98731\teval-auc:0.77158\n",
      "[213]\ttrain-auc:0.98733\teval-auc:0.77144\n",
      "[214]\ttrain-auc:0.98738\teval-auc:0.77114\n",
      "[215]\ttrain-auc:0.98739\teval-auc:0.77117\n",
      "[216]\ttrain-auc:0.98745\teval-auc:0.77094\n",
      "[217]\ttrain-auc:0.98748\teval-auc:0.77096\n",
      "[218]\ttrain-auc:0.98748\teval-auc:0.77180\n",
      "[219]\ttrain-auc:0.98752\teval-auc:0.77159\n",
      "[220]\ttrain-auc:0.98753\teval-auc:0.77192\n",
      "[221]\ttrain-auc:0.98754\teval-auc:0.77176\n",
      "[222]\ttrain-auc:0.98755\teval-auc:0.77194\n",
      "[223]\ttrain-auc:0.98757\teval-auc:0.77195\n",
      "[224]\ttrain-auc:0.98762\teval-auc:0.77186\n",
      "[225]\ttrain-auc:0.98764\teval-auc:0.77179\n",
      "[226]\ttrain-auc:0.98768\teval-auc:0.77203\n",
      "[227]\ttrain-auc:0.98769\teval-auc:0.77206\n",
      "[228]\ttrain-auc:0.98776\teval-auc:0.77218\n",
      "[229]\ttrain-auc:0.98779\teval-auc:0.77274\n",
      "[230]\ttrain-auc:0.98781\teval-auc:0.77307\n",
      "[231]\ttrain-auc:0.98779\teval-auc:0.77321\n",
      "[232]\ttrain-auc:0.98785\teval-auc:0.77318\n",
      "[233]\ttrain-auc:0.98794\teval-auc:0.77273\n",
      "[234]\ttrain-auc:0.98795\teval-auc:0.77300\n",
      "[235]\ttrain-auc:0.98797\teval-auc:0.77323\n",
      "[236]\ttrain-auc:0.98800\teval-auc:0.77288\n",
      "[237]\ttrain-auc:0.98802\teval-auc:0.77253\n",
      "[238]\ttrain-auc:0.98803\teval-auc:0.77268\n",
      "[239]\ttrain-auc:0.98807\teval-auc:0.77251\n",
      "[240]\ttrain-auc:0.98815\teval-auc:0.77239\n",
      "[241]\ttrain-auc:0.98821\teval-auc:0.77250\n",
      "[242]\ttrain-auc:0.98822\teval-auc:0.77256\n",
      "[243]\ttrain-auc:0.98820\teval-auc:0.77211\n",
      "[244]\ttrain-auc:0.98824\teval-auc:0.77199\n",
      "[245]\ttrain-auc:0.98822\teval-auc:0.77200\n",
      "[246]\ttrain-auc:0.98823\teval-auc:0.77214\n",
      "[247]\ttrain-auc:0.98824\teval-auc:0.77208\n",
      "[248]\ttrain-auc:0.98826\teval-auc:0.77223\n",
      "[249]\ttrain-auc:0.98828\teval-auc:0.77224\n",
      "[250]\ttrain-auc:0.98830\teval-auc:0.77217\n",
      "[251]\ttrain-auc:0.98837\teval-auc:0.77203\n",
      "[252]\ttrain-auc:0.98841\teval-auc:0.77225\n",
      "[253]\ttrain-auc:0.98842\teval-auc:0.77263\n",
      "[254]\ttrain-auc:0.98850\teval-auc:0.77265\n",
      "[255]\ttrain-auc:0.98850\teval-auc:0.77241\n",
      "[256]\ttrain-auc:0.98850\teval-auc:0.77255\n",
      "[257]\ttrain-auc:0.98856\teval-auc:0.77257\n",
      "[258]\ttrain-auc:0.98858\teval-auc:0.77304\n",
      "[259]\ttrain-auc:0.98863\teval-auc:0.77311\n",
      "[260]\ttrain-auc:0.98865\teval-auc:0.77373\n",
      "[261]\ttrain-auc:0.98868\teval-auc:0.77357\n",
      "[262]\ttrain-auc:0.98870\teval-auc:0.77356\n",
      "[263]\ttrain-auc:0.98869\teval-auc:0.77331\n",
      "[264]\ttrain-auc:0.98873\teval-auc:0.77341\n",
      "[265]\ttrain-auc:0.98873\teval-auc:0.77343\n",
      "[266]\ttrain-auc:0.98875\teval-auc:0.77352\n",
      "[267]\ttrain-auc:0.98880\teval-auc:0.77369\n",
      "[268]\ttrain-auc:0.98885\teval-auc:0.77417\n",
      "[269]\ttrain-auc:0.98890\teval-auc:0.77421\n",
      "[270]\ttrain-auc:0.98896\teval-auc:0.77400\n",
      "[271]\ttrain-auc:0.98899\teval-auc:0.77478\n",
      "[272]\ttrain-auc:0.98901\teval-auc:0.77485\n",
      "[273]\ttrain-auc:0.98903\teval-auc:0.77497\n",
      "[274]\ttrain-auc:0.98903\teval-auc:0.77512\n",
      "[275]\ttrain-auc:0.98904\teval-auc:0.77510\n",
      "[276]\ttrain-auc:0.98906\teval-auc:0.77497\n",
      "[277]\ttrain-auc:0.98911\teval-auc:0.77478\n",
      "[278]\ttrain-auc:0.98916\teval-auc:0.77483\n",
      "[279]\ttrain-auc:0.98915\teval-auc:0.77502\n",
      "[280]\ttrain-auc:0.98915\teval-auc:0.77505\n",
      "[281]\ttrain-auc:0.98920\teval-auc:0.77504\n",
      "[282]\ttrain-auc:0.98919\teval-auc:0.77471\n",
      "[283]\ttrain-auc:0.98921\teval-auc:0.77479\n",
      "[284]\ttrain-auc:0.98919\teval-auc:0.77511\n",
      "[285]\ttrain-auc:0.98922\teval-auc:0.77512\n",
      "[286]\ttrain-auc:0.98923\teval-auc:0.77533\n",
      "[287]\ttrain-auc:0.98924\teval-auc:0.77539\n",
      "[288]\ttrain-auc:0.98925\teval-auc:0.77549\n",
      "[289]\ttrain-auc:0.98927\teval-auc:0.77534\n",
      "[290]\ttrain-auc:0.98929\teval-auc:0.77536\n",
      "[291]\ttrain-auc:0.98933\teval-auc:0.77513\n",
      "[292]\ttrain-auc:0.98935\teval-auc:0.77517\n",
      "[293]\ttrain-auc:0.98940\teval-auc:0.77534\n",
      "[294]\ttrain-auc:0.98941\teval-auc:0.77519\n",
      "[295]\ttrain-auc:0.98943\teval-auc:0.77524\n",
      "[296]\ttrain-auc:0.98943\teval-auc:0.77559\n",
      "[297]\ttrain-auc:0.98947\teval-auc:0.77570\n",
      "[298]\ttrain-auc:0.98948\teval-auc:0.77568\n",
      "[299]\ttrain-auc:0.98948\teval-auc:0.77572\n"
     ]
    }
   ],
   "source": [
    "result = xgb.train(params,train_xgb, num_boost_round=300, \n",
    "       evals=[(train_xgb, 'train'), (test_xgb, 'eval')])"
   ]
  },
  {
   "cell_type": "code",
   "execution_count": 144,
   "metadata": {},
   "outputs": [],
   "source": [
    "y_prob_res = result.predict(train_xgb, ntree_limit= result.best_ntree_limit)\n",
    "y_pred_res = (y_prob >= 0.1).astype(bool)\n",
    "fpr_train, tpr_train, thresholds_train = roc_curve(y_train_res, y_pred_res)"
   ]
  },
  {
   "cell_type": "code",
   "execution_count": 148,
   "metadata": {},
   "outputs": [
    {
     "data": {
      "image/png": "[encoded data removed]",
      "text/plain": [
       "<Figure size 432x288 with 1 Axes>"
      ]
     },
     "metadata": {
      "needs_background": "light"
     },
     "output_type": "display_data"
    }
   ],
   "source": [
    "fpr_test, tpr_test, thresholds_test = roc_curve(y_test, y_pred)\n",
    "plt.plot(fpr_test, tpr_test, color='b')\n",
    "plt.title('ROC-AUC')\n",
    "plt.xlabel('False Positive Rate')\n",
    "plt.ylabel('True Positive Rate')\n",
    "plt.show()"
   ]
  },
  {
   "cell_type": "code",
   "execution_count": 149,
   "metadata": {},
   "outputs": [
    {
     "name": "stdout",
     "output_type": "stream",
     "text": [
      "Area under the ROC curve - test data: 0.689946\n"
     ]
    }
   ],
   "source": [
    "roc_auc_test = auc(fpr_test, tpr_test)\n",
    "print(\"Area under the ROC curve - test data: %f\" % roc_auc_test)"
   ]
  },
  {
   "cell_type": "markdown",
   "metadata": {},
   "source": [
    "### Feature Importance"
   ]
  },
  {
   "cell_type": "code",
   "execution_count": 158,
   "metadata": {},
   "outputs": [],
   "source": [
    "result_importance = result.get_score()"
   ]
  },
  {
   "cell_type": "code",
   "execution_count": 159,
   "metadata": {},
   "outputs": [
    {
     "data": {
      "text/html": [
       "<div>\n",
       "<style scoped>\n",
       "    .dataframe tbody tr th:only-of-type {\n",
       "        vertical-align: middle;\n",
       "    }\n",
       "\n",
       "    .dataframe tbody tr th {\n",
       "        vertical-align: top;\n",
       "    }\n",
       "\n",
       "    .dataframe thead th {\n",
       "        text-align: right;\n",
       "    }\n",
       "</style>\n",
       "<table border=\"1\" class=\"dataframe\">\n",
       "  <thead>\n",
       "    <tr style=\"text-align: right;\">\n",
       "      <th></th>\n",
       "      <th>feature</th>\n",
       "      <th>score</th>\n",
       "    </tr>\n",
       "  </thead>\n",
       "  <tbody>\n",
       "    <tr>\n",
       "      <th>1</th>\n",
       "      <td>merchant_records_Fraud</td>\n",
       "      <td>0.198571</td>\n",
       "    </tr>\n",
       "    <tr>\n",
       "      <th>4</th>\n",
       "      <td>posEntryMode_09</td>\n",
       "      <td>0.074762</td>\n",
       "    </tr>\n",
       "    <tr>\n",
       "      <th>23</th>\n",
       "      <td>accountNumber</td>\n",
       "      <td>0.054762</td>\n",
       "    </tr>\n",
       "    <tr>\n",
       "      <th>3</th>\n",
       "      <td>transactionAmount</td>\n",
       "      <td>0.053333</td>\n",
       "    </tr>\n",
       "    <tr>\n",
       "      <th>7</th>\n",
       "      <td>posConditionCode_01</td>\n",
       "      <td>0.048571</td>\n",
       "    </tr>\n",
       "    <tr>\n",
       "      <th>2</th>\n",
       "      <td>posEntryMode_02</td>\n",
       "      <td>0.047619</td>\n",
       "    </tr>\n",
       "    <tr>\n",
       "      <th>24</th>\n",
       "      <td>cardLast4Digits</td>\n",
       "      <td>0.038571</td>\n",
       "    </tr>\n",
       "    <tr>\n",
       "      <th>0</th>\n",
       "      <td>posEntryMode_05</td>\n",
       "      <td>0.036190</td>\n",
       "    </tr>\n",
       "    <tr>\n",
       "      <th>28</th>\n",
       "      <td>creditLimit</td>\n",
       "      <td>0.026190</td>\n",
       "    </tr>\n",
       "    <tr>\n",
       "      <th>14</th>\n",
       "      <td>categoryEntertainment</td>\n",
       "      <td>0.025714</td>\n",
       "    </tr>\n",
       "  </tbody>\n",
       "</table>\n",
       "</div>"
      ],
      "text/plain": [
       "                   feature     score\n",
       "1   merchant_records_Fraud  0.198571\n",
       "4          posEntryMode_09  0.074762\n",
       "23           accountNumber  0.054762\n",
       "3        transactionAmount  0.053333\n",
       "7      posConditionCode_01  0.048571\n",
       "2          posEntryMode_02  0.047619\n",
       "24         cardLast4Digits  0.038571\n",
       "0          posEntryMode_05  0.036190\n",
       "28             creditLimit  0.026190\n",
       "14   categoryEntertainment  0.025714"
      ]
     },
     "execution_count": 159,
     "metadata": {},
     "output_type": "execute_result"
    }
   ],
   "source": [
    "result_importance = pd.DataFrame(result_importance.items(), columns=['feature', 'score'])\n",
    "result_importance['score'] = result_importance['score'] / result_importance['score'].sum()\n",
    "result_importance.sort_values(['score'], ascending=False, inplace=True)\n",
    "result_importance.head(10)"
   ]
  },
  {
   "cell_type": "markdown",
   "metadata": {},
   "source": [
    "### Model for Improvement  \n",
    "- Use GridSearch to tune hyperparameters for model"
   ]
  }
 ],
 "metadata": {
  "kernelspec": {
   "display_name": "Python 3",
   "language": "python",
   "name": "python3"
  },
  "language_info": {
   "codemirror_mode": {
    "name": "ipython",
    "version": 3
   },
   "file_extension": ".py",
   "mimetype": "text/x-python",
   "name": "python",
   "nbconvert_exporter": "python",
   "pygments_lexer": "ipython3",
   "version": "3.8.3"
  }
 },
 "nbformat": 4,
 "nbformat_minor": 4
}
